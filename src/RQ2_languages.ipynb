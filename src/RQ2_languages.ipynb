{
 "cells": [
  {
   "cell_type": "code",
   "execution_count": 1,
   "metadata": {},
   "outputs": [],
   "source": [
    "import json\n",
    "import matplotlib.pyplot as plt\n",
    "import numpy as np\n",
    "import pandas as pd\n",
    "import scipy.stats as stats"
   ]
  },
  {
   "cell_type": "markdown",
   "metadata": {},
   "source": [
    "### Loading the data"
   ]
  },
  {
   "cell_type": "code",
   "execution_count": 2,
   "metadata": {},
   "outputs": [],
   "source": [
    "basepath = '../data_swh/top100'\n",
    "output_path = '/../results'\n",
    "\n",
    "fpath = basepath + '/all_data.json'"
   ]
  },
  {
   "cell_type": "code",
   "execution_count": 3,
   "metadata": {},
   "outputs": [
    {
     "data": {
      "text/plain": [
       "890"
      ]
     },
     "execution_count": 3,
     "metadata": {},
     "output_type": "execute_result"
    }
   ],
   "source": [
    "# read each line of the file as a json object\n",
    "data_json = []\n",
    "\n",
    "with open(fpath) as f:\n",
    "    data_json = [json.loads(line) for line in f]\n",
    "\n",
    "len(data_json)"
   ]
  },
  {
   "cell_type": "code",
   "execution_count": 4,
   "metadata": {},
   "outputs": [
    {
     "data": {
      "text/plain": [
       "835"
      ]
     },
     "execution_count": 4,
     "metadata": {},
     "output_type": "execute_result"
    }
   ],
   "source": [
    "p_ids = set(p['project_id'] for p in data_json)\n",
    "len(p_ids)"
   ]
  },
  {
   "cell_type": "markdown",
   "metadata": {},
   "source": [
    "### DataFrame creation\n",
    "In this notebook, we refer to multi-class licensing with the term \"mismatch\""
   ]
  },
  {
   "cell_type": "code",
   "execution_count": 5,
   "metadata": {},
   "outputs": [],
   "source": [
    "# retrieve the data for each project\n",
    "ids, language, keywords, n_files, n_licenses, n_unique_licenses, n_mismatches, n_conflicts = [], [], [], [], [], [], [], []\n",
    "avg_licenses_per_file, avg_unique_licenses_per_file, avg_mismatches_per_file, avg_conflicts_per_file = [], [], [], []\n",
    "\n",
    "for p in data_json:\n",
    "    \n",
    "    ids.append(p['project_id'])\n",
    "\n",
    "    project_main_language = p['project_main_language']\n",
    "\n",
    "    if type(project_main_language) == list:\n",
    "        project_main_language = 'other'\n",
    "\n",
    "    language.append(project_main_language)\n",
    "    keywords.append(p['project_keywords'])\n",
    "    n_files.append(p['n_project_files'])\n",
    "    n_licenses.append(p['n_project_declared_licenses']+p['n_project_incode_licenses'])\n",
    "    n_unique_licenses.append(len(p['project_declared_licenses'])+len(p['project_incode_licenses']))\n",
    "    n_mismatches.append(sum(p['between_declared_mismatches'].values())  + sum(p['between_incode_mismatches'].values()) + sum(p['between_declared_incode_mismatches'].values()))\n",
    "\n",
    "    tot_conflicts = 0\n",
    "    tot_conflicts += sum(p['between_declared_conflicts'].values()) + sum(p['possible_between_declared_conflicts'].values())\n",
    "    tot_conflicts += sum(p['between_incode_conflicts'].values()) + sum(p['possible_between_incode_conflicts'].values())\n",
    "    tot_conflicts += sum(p['between_declared_incode_conflicts'].values()) + sum(p['possible_between_declared_incode_conflicts'].values())\n",
    "\n",
    "    n_conflicts.append(tot_conflicts)\n",
    "\n",
    "    avg_licenses_per_file.append((p['n_project_declared_licenses']+p['n_project_incode_licenses'])/p['n_project_files'])\n",
    "    avg_unique_licenses_per_file.append((len(p['project_declared_licenses'])+len(p['project_incode_licenses']))/p['n_project_files'])\n",
    "    avg_mismatches_per_file.append((sum(p['between_declared_mismatches'].values())  + sum(p['between_incode_mismatches'].values()) + sum(p['between_declared_incode_mismatches'].values()))/p['n_project_files'])\n",
    "    avg_conflicts_per_file.append(tot_conflicts/p['n_project_files'])"
   ]
  },
  {
   "cell_type": "code",
   "execution_count": 6,
   "metadata": {},
   "outputs": [],
   "source": [
    "# create a dataframe with the data\n",
    "df = pd.DataFrame({\n",
    "        'project_id': ids, \n",
    "        'language': language, \n",
    "        'keywords': keywords, \n",
    "        'n_files': n_files, \n",
    "        'n_licenses': n_licenses,\n",
    "        'avg_licenses_per_file': avg_licenses_per_file,\n",
    "        'n_unique_licenses': n_unique_licenses, \n",
    "        'avg_unique_licenses_per_file': avg_unique_licenses_per_file,\n",
    "        'n_mismatches': n_mismatches, \n",
    "        'avg_mismatches_per_file': avg_mismatches_per_file,\n",
    "        'n_conflicts': n_conflicts,\n",
    "        'avg_conflicts_per_file': avg_conflicts_per_file\n",
    "    }\n",
    ")"
   ]
  },
  {
   "cell_type": "code",
   "execution_count": 7,
   "metadata": {},
   "outputs": [
    {
     "data": {
      "text/html": [
       "<div>\n",
       "<style scoped>\n",
       "    .dataframe tbody tr th:only-of-type {\n",
       "        vertical-align: middle;\n",
       "    }\n",
       "\n",
       "    .dataframe tbody tr th {\n",
       "        vertical-align: top;\n",
       "    }\n",
       "\n",
       "    .dataframe thead th {\n",
       "        text-align: right;\n",
       "    }\n",
       "</style>\n",
       "<table border=\"1\" class=\"dataframe\">\n",
       "  <thead>\n",
       "    <tr style=\"text-align: right;\">\n",
       "      <th></th>\n",
       "      <th>project_id</th>\n",
       "      <th>language</th>\n",
       "      <th>keywords</th>\n",
       "      <th>n_files</th>\n",
       "      <th>n_licenses</th>\n",
       "      <th>avg_licenses_per_file</th>\n",
       "      <th>n_unique_licenses</th>\n",
       "      <th>avg_unique_licenses_per_file</th>\n",
       "      <th>n_mismatches</th>\n",
       "      <th>avg_mismatches_per_file</th>\n",
       "      <th>n_conflicts</th>\n",
       "      <th>avg_conflicts_per_file</th>\n",
       "    </tr>\n",
       "  </thead>\n",
       "  <tbody>\n",
       "    <tr>\n",
       "      <th>0</th>\n",
       "      <td>b605819d7976bb2abc1502f1dd0e0f4e86da3301</td>\n",
       "      <td>Java</td>\n",
       "      <td>[java, spring-boot, spring, framework]</td>\n",
       "      <td>9261</td>\n",
       "      <td>7562</td>\n",
       "      <td>0.816542</td>\n",
       "      <td>6</td>\n",
       "      <td>0.000648</td>\n",
       "      <td>9</td>\n",
       "      <td>0.000972</td>\n",
       "      <td>12</td>\n",
       "      <td>0.001296</td>\n",
       "    </tr>\n",
       "    <tr>\n",
       "      <th>1</th>\n",
       "      <td>967e04d66c94a4858b65bfee67349c611f5c669b</td>\n",
       "      <td>TypeScript</td>\n",
       "      <td>[react, ui-kit, typescript, antd, ant-design, ...</td>\n",
       "      <td>3713</td>\n",
       "      <td>2</td>\n",
       "      <td>0.000539</td>\n",
       "      <td>1</td>\n",
       "      <td>0.000269</td>\n",
       "      <td>0</td>\n",
       "      <td>0.000000</td>\n",
       "      <td>0</td>\n",
       "      <td>0.000000</td>\n",
       "    </tr>\n",
       "    <tr>\n",
       "      <th>2</th>\n",
       "      <td>1b14ddaab8a888d31bc8b56de46497453ea35b40</td>\n",
       "      <td>Rich Text Format</td>\n",
       "      <td>[learn-to-code, git, github, app]</td>\n",
       "      <td>9490</td>\n",
       "      <td>1</td>\n",
       "      <td>0.000105</td>\n",
       "      <td>1</td>\n",
       "      <td>0.000105</td>\n",
       "      <td>0</td>\n",
       "      <td>0.000000</td>\n",
       "      <td>0</td>\n",
       "      <td>0.000000</td>\n",
       "    </tr>\n",
       "    <tr>\n",
       "      <th>3</th>\n",
       "      <td>b21667cbe0767257069d8af34424fc411760e350</td>\n",
       "      <td>Python</td>\n",
       "      <td>[python, algorithm, algorithms-implemented, al...</td>\n",
       "      <td>1347</td>\n",
       "      <td>29</td>\n",
       "      <td>0.021529</td>\n",
       "      <td>4</td>\n",
       "      <td>0.002970</td>\n",
       "      <td>4</td>\n",
       "      <td>0.002970</td>\n",
       "      <td>4</td>\n",
       "      <td>0.002970</td>\n",
       "    </tr>\n",
       "    <tr>\n",
       "      <th>4</th>\n",
       "      <td>fe9da48099456119bf5f803518b6d2511106661a</td>\n",
       "      <td>JavaScript</td>\n",
       "      <td>[javascript, react, frontend, declarative, ui,...</td>\n",
       "      <td>2358</td>\n",
       "      <td>1521</td>\n",
       "      <td>0.645038</td>\n",
       "      <td>4</td>\n",
       "      <td>0.001696</td>\n",
       "      <td>5</td>\n",
       "      <td>0.002120</td>\n",
       "      <td>5</td>\n",
       "      <td>0.002120</td>\n",
       "    </tr>\n",
       "  </tbody>\n",
       "</table>\n",
       "</div>"
      ],
      "text/plain": [
       "                                 project_id          language  \\\n",
       "0  b605819d7976bb2abc1502f1dd0e0f4e86da3301              Java   \n",
       "1  967e04d66c94a4858b65bfee67349c611f5c669b        TypeScript   \n",
       "2  1b14ddaab8a888d31bc8b56de46497453ea35b40  Rich Text Format   \n",
       "3  b21667cbe0767257069d8af34424fc411760e350            Python   \n",
       "4  fe9da48099456119bf5f803518b6d2511106661a        JavaScript   \n",
       "\n",
       "                                            keywords  n_files  n_licenses  \\\n",
       "0             [java, spring-boot, spring, framework]     9261        7562   \n",
       "1  [react, ui-kit, typescript, antd, ant-design, ...     3713           2   \n",
       "2                  [learn-to-code, git, github, app]     9490           1   \n",
       "3  [python, algorithm, algorithms-implemented, al...     1347          29   \n",
       "4  [javascript, react, frontend, declarative, ui,...     2358        1521   \n",
       "\n",
       "   avg_licenses_per_file  n_unique_licenses  avg_unique_licenses_per_file  \\\n",
       "0               0.816542                  6                      0.000648   \n",
       "1               0.000539                  1                      0.000269   \n",
       "2               0.000105                  1                      0.000105   \n",
       "3               0.021529                  4                      0.002970   \n",
       "4               0.645038                  4                      0.001696   \n",
       "\n",
       "   n_mismatches  avg_mismatches_per_file  n_conflicts  avg_conflicts_per_file  \n",
       "0             9                 0.000972           12                0.001296  \n",
       "1             0                 0.000000            0                0.000000  \n",
       "2             0                 0.000000            0                0.000000  \n",
       "3             4                 0.002970            4                0.002970  \n",
       "4             5                 0.002120            5                0.002120  "
      ]
     },
     "execution_count": 7,
     "metadata": {},
     "output_type": "execute_result"
    }
   ],
   "source": [
    "df.head()"
   ]
  },
  {
   "cell_type": "code",
   "execution_count": 8,
   "metadata": {},
   "outputs": [
    {
     "data": {
      "text/plain": [
       "(890, 12)"
      ]
     },
     "execution_count": 8,
     "metadata": {},
     "output_type": "execute_result"
    }
   ],
   "source": [
    "# get the number of rows and columns\n",
    "df.shape"
   ]
  },
  {
   "cell_type": "markdown",
   "metadata": {},
   "source": [
    "### Basic stats about programming languages"
   ]
  },
  {
   "cell_type": "code",
   "execution_count": 9,
   "metadata": {},
   "outputs": [],
   "source": [
    "# group by language and count how many rows per language\n",
    "n_projects_per_lang = df.groupby('language')['project_id'].count()"
   ]
  },
  {
   "cell_type": "code",
   "execution_count": 10,
   "metadata": {},
   "outputs": [
    {
     "data": {
      "text/plain": [
       "language\n",
       "C                    92\n",
       "C#                    2\n",
       "C++                  10\n",
       "CSS                   2\n",
       "Clojure               1\n",
       "Dart                  2\n",
       "Dockerfile            1\n",
       "Go                    8\n",
       "Groovy                1\n",
       "HTML                  7\n",
       "Java                105\n",
       "JavaScript          123\n",
       "Julia                86\n",
       "Jupyter Notebook      3\n",
       "Kotlin               83\n",
       "Markdown              2\n",
       "PHP                   3\n",
       "Python              116\n",
       "R                    95\n",
       "Rich Text Format      1\n",
       "Ruby                  1\n",
       "Rust                 84\n",
       "SCSS                  1\n",
       "Scala                 1\n",
       "Shell                 7\n",
       "TypeScript           20\n",
       "Vim Script            1\n",
       "Vue                   2\n",
       "other                30\n",
       "Name: project_id, dtype: int64"
      ]
     },
     "execution_count": 10,
     "metadata": {},
     "output_type": "execute_result"
    }
   ],
   "source": [
    "n_projects_per_lang"
   ]
  },
  {
   "cell_type": "code",
   "execution_count": 11,
   "metadata": {},
   "outputs": [
    {
     "data": {
      "text/plain": [
       "array([ 1.,  3., 83.])"
      ]
     },
     "execution_count": 11,
     "metadata": {},
     "output_type": "execute_result"
    }
   ],
   "source": [
    "np.quantile(n_projects_per_lang.values, [0.25, 0.5, 0.75])"
   ]
  },
  {
   "cell_type": "code",
   "execution_count": 12,
   "metadata": {},
   "outputs": [
    {
     "data": {
      "text/plain": [
       "{'C',\n",
       " 'C#',\n",
       " 'C++',\n",
       " 'CSS',\n",
       " 'Clojure',\n",
       " 'Dart',\n",
       " 'Dockerfile',\n",
       " 'Go',\n",
       " 'Groovy',\n",
       " 'HTML',\n",
       " 'Java',\n",
       " 'JavaScript',\n",
       " 'Julia',\n",
       " 'Jupyter Notebook',\n",
       " 'Kotlin',\n",
       " 'Markdown',\n",
       " 'PHP',\n",
       " 'Python',\n",
       " 'R',\n",
       " 'Rich Text Format',\n",
       " 'Ruby',\n",
       " 'Rust',\n",
       " 'SCSS',\n",
       " 'Scala',\n",
       " 'Shell',\n",
       " 'TypeScript',\n",
       " 'Vim Script',\n",
       " 'Vue',\n",
       " 'other'}"
      ]
     },
     "execution_count": 12,
     "metadata": {},
     "output_type": "execute_result"
    }
   ],
   "source": [
    "# get all programming languages\n",
    "languages = set(df['language'].tolist())\n",
    "languages"
   ]
  },
  {
   "cell_type": "code",
   "execution_count": 13,
   "metadata": {},
   "outputs": [
    {
     "data": {
      "text/plain": [
       "29"
      ]
     },
     "execution_count": 13,
     "metadata": {},
     "output_type": "execute_result"
    }
   ],
   "source": [
    "len(languages)"
   ]
  },
  {
   "cell_type": "markdown",
   "metadata": {},
   "source": [
    "### Correlation between programming language and liceses usage, mismatches, and conflicts"
   ]
  },
  {
   "cell_type": "code",
   "execution_count": 19,
   "metadata": {},
   "outputs": [
    {
     "data": {
      "text/plain": [
       "['C',\n",
       " 'C#',\n",
       " 'C++',\n",
       " 'CSS',\n",
       " 'Clojure',\n",
       " 'Dart',\n",
       " 'Dockerfile',\n",
       " 'Go',\n",
       " 'Groovy',\n",
       " 'HTML',\n",
       " 'Java',\n",
       " 'JavaScript',\n",
       " 'Julia',\n",
       " 'Jupyter Notebook',\n",
       " 'Kotlin',\n",
       " 'Markdown',\n",
       " 'PHP',\n",
       " 'Python',\n",
       " 'R',\n",
       " 'Rich Text Format',\n",
       " 'Ruby',\n",
       " 'Rust',\n",
       " 'SCSS',\n",
       " 'Scala',\n",
       " 'Shell',\n",
       " 'TypeScript',\n",
       " 'Vim Script',\n",
       " 'Vue',\n",
       " 'other']"
      ]
     },
     "execution_count": 19,
     "metadata": {},
     "output_type": "execute_result"
    }
   ],
   "source": [
    "languages = sorted(languages)\n",
    "languages"
   ]
  },
  {
   "cell_type": "code",
   "execution_count": 20,
   "metadata": {},
   "outputs": [
    {
     "name": "stdout",
     "output_type": "stream",
     "text": [
      "0 C\n",
      "1 C#\n",
      "2 C++\n",
      "3 CSS\n",
      "4 Clojure\n",
      "5 Dart\n",
      "6 Dockerfile\n",
      "7 Go\n",
      "8 Groovy\n",
      "9 HTML\n",
      "10 Java\n",
      "11 JavaScript\n",
      "12 Julia\n",
      "13 Jupyter Notebook\n",
      "14 Kotlin\n",
      "15 Markdown\n",
      "16 PHP\n",
      "17 Python\n",
      "18 R\n",
      "19 Rich Text Format\n",
      "20 Ruby\n",
      "21 Rust\n",
      "22 SCSS\n",
      "23 Scala\n",
      "24 Shell\n",
      "25 TypeScript\n",
      "26 Vim Script\n",
      "27 Vue\n",
      "28 other\n"
     ]
    }
   ],
   "source": [
    "languages_analyzed = []\n",
    "\n",
    "n_licenses_per_language = []\n",
    "n_unique_licenses_per_language = []\n",
    "n_mismatches_per_language = []\n",
    "n_conflicts_per_language = []\n",
    "\n",
    "avg_licenses_per_file_per_language = []\n",
    "avg_unique_licenses_per_file_per_language = []\n",
    "avg_mismatches_per_file_per_language = []\n",
    "avg_conflicts_per_file_per_language = []\n",
    "\n",
    "for i, language in enumerate(languages):\n",
    "    print(i, language)\n",
    "    _df = df[df['language'] == language]\n",
    "\n",
    "    if len(_df) < 80 or language.lower() == 'other':\n",
    "        continue\n",
    "\n",
    "    languages_analyzed.append(language)\n",
    "\n",
    "    _n_licenses = _df['n_licenses'].tolist()\n",
    "    _n_unique_licenses = _df['n_unique_licenses'].tolist()\n",
    "    _n_mismatches = _df['n_mismatches'].tolist()\n",
    "    _n_conflicts = _df['n_conflicts'].tolist()\n",
    "\n",
    "    _avg_licenses_per_file = _df['avg_licenses_per_file'].tolist()\n",
    "    _avg_unique_licenses_per_file = _df['avg_unique_licenses_per_file'].tolist()\n",
    "    _avg_mismatches_per_file = _df['avg_mismatches_per_file'].tolist()\n",
    "    _avg_conflicts_per_file = _df['avg_conflicts_per_file'].tolist()\n",
    "\n",
    "    n_licenses_per_language.append(_n_licenses)\n",
    "    n_unique_licenses_per_language.append(_n_unique_licenses)\n",
    "    n_mismatches_per_language.append(_n_mismatches)\n",
    "    n_conflicts_per_language.append(_n_conflicts)\n",
    "\n",
    "    avg_licenses_per_file_per_language.append(_avg_licenses_per_file)\n",
    "    avg_unique_licenses_per_file_per_language.append(_avg_unique_licenses_per_file)\n",
    "    avg_mismatches_per_file_per_language.append(_avg_mismatches_per_file)\n",
    "    avg_conflicts_per_file_per_language.append(_avg_conflicts_per_file)"
   ]
  },
  {
   "cell_type": "code",
   "execution_count": 21,
   "metadata": {},
   "outputs": [
    {
     "data": {
      "text/plain": [
       "['C', 'Java', 'JavaScript', 'Julia', 'Kotlin', 'Python', 'R', 'Rust']"
      ]
     },
     "execution_count": 21,
     "metadata": {},
     "output_type": "execute_result"
    }
   ],
   "source": [
    "languages_analyzed"
   ]
  },
  {
   "cell_type": "code",
   "execution_count": 22,
   "metadata": {},
   "outputs": [
    {
     "data": {
      "text/plain": [
       "['C', 'Java', 'JavaScript', 'Julia', 'Kotlin', 'Python', 'R', 'Rust']"
      ]
     },
     "execution_count": 22,
     "metadata": {},
     "output_type": "execute_result"
    }
   ],
   "source": [
    "# # sort alphabetically the languages\n",
    "# languages_analyzed = sorted(languages_analyzed)\n",
    "# languages_analyzed"
   ]
  },
  {
   "cell_type": "code",
   "execution_count": 23,
   "metadata": {},
   "outputs": [
    {
     "name": "stdout",
     "output_type": "stream",
     "text": [
      "N_licenses:  149.1477272614274 6.13025530609846e-29\n",
      "N_unique_licenses:  29.312324681681325 0.00012688900677597343\n",
      "N_mismatches:  144.60972275866413 5.492949629157029e-28\n",
      "N_conflicts:  149.79387106673238 4.4853933698375434e-29\n"
     ]
    }
   ],
   "source": [
    "# now we want to examine whether the use of a specific programming language\n",
    "# is correlated with the number of licenses, mismatches, and conflicts\n",
    "\n",
    "avg_h_statistic_n_licenses, avg_p_value_n_licenses = stats.kruskal(*avg_licenses_per_file_per_language)\n",
    "print('N_licenses: ', avg_h_statistic_n_licenses, avg_p_value_n_licenses)\n",
    "\n",
    "avg_h_statistic_n_unique_licenses, avg_p_value_n_unique_licenses = stats.kruskal(*avg_unique_licenses_per_file_per_language)\n",
    "print('N_unique_licenses: ', avg_h_statistic_n_unique_licenses, avg_p_value_n_unique_licenses)\n",
    "\n",
    "avg_h_statistic_n_mismatches, avg_p_value_n_mismatches = stats.kruskal(*avg_mismatches_per_file_per_language)\n",
    "print('N_mismatches: ', avg_h_statistic_n_mismatches, avg_p_value_n_mismatches)\n",
    "\n",
    "avg_h_statistic_n_conflicts, avg_p_value_n_conflicts = stats.kruskal(*avg_conflicts_per_file_per_language)\n",
    "print('N_conflicts: ', avg_h_statistic_n_conflicts, avg_p_value_n_conflicts)"
   ]
  },
  {
   "cell_type": "markdown",
   "metadata": {},
   "source": [
    "#### Which group differ - average number of licenses per project? (NORMALIZED)"
   ]
  },
  {
   "cell_type": "code",
   "execution_count": 24,
   "metadata": {},
   "outputs": [
    {
     "name": "stdout",
     "output_type": "stream",
     "text": [
      "C Java\n",
      "4171.5 0.09932150634220648 92 105\n",
      "***\n",
      "C JavaScript\n",
      "8004.5 2.0125766549635502e-07 92 123\n",
      "Significant\n",
      "***\n",
      "C Julia\n",
      "6770.5 2.584816514122638e-16 92 86\n",
      "Significant\n",
      "***\n",
      "C Kotlin\n",
      "3816.5 0.9976158026380346 92 83\n",
      "***\n",
      "C Python\n",
      "7227.0 1.1595039234596949e-05 92 116\n",
      "Significant\n",
      "***\n",
      "C R\n",
      "7238.5 9.141833383303883e-15 92 95\n",
      "Significant\n",
      "***\n",
      "C Rust\n",
      "5661.0 1.0315456639510447e-07 92 84\n",
      "Significant\n",
      "***\n",
      "Java JavaScript\n",
      "9188.5 3.794854648506698e-08 105 123\n",
      "Significant\n",
      "***\n",
      "Java Julia\n",
      "7560.0 1.1491165399685127e-15 105 86\n",
      "Significant\n",
      "***\n",
      "Java Kotlin\n",
      "4995.5 0.0853033886587582 105 83\n",
      "***\n",
      "Java Python\n",
      "8363.5 1.6807517022187454e-06 105 116\n",
      "Significant\n",
      "***\n",
      "Java R\n",
      "8140.5 1.2339119384516333e-14 105 95\n",
      "Significant\n",
      "***\n",
      "Java Rust\n",
      "6422.5 7.28274614290615e-08 105 84\n",
      "Significant\n",
      "***\n",
      "JavaScript Julia\n",
      "7274.5 3.954523799504079e-06 123 86\n",
      "Significant\n",
      "***\n",
      "JavaScript Kotlin\n",
      "3680.5 0.0006934322884330217 123 83\n",
      "Significant\n",
      "***\n",
      "JavaScript Python\n",
      "6977.5 0.7702583334570633 123 116\n",
      "***\n",
      "JavaScript R\n",
      "7772.5 2.9359926123898343e-05 123 95\n",
      "Significant\n",
      "***\n",
      "JavaScript Rust\n",
      "5694.0 0.21257792614886029 123 84\n",
      "***\n",
      "Julia Kotlin\n",
      "1815.5 3.53300526344492e-08 86 83\n",
      "Significant\n",
      "***\n",
      "Julia Python\n",
      "2981.5 1.043724413671784e-06 86 116\n",
      "Significant\n",
      "***\n",
      "Julia R\n",
      "4027.5 0.8713611685992749 86 95\n",
      "***\n",
      "Julia Rust\n",
      "2596.0 0.001550135559204851 86 84\n",
      "Significant\n",
      "***\n",
      "Kotlin Python\n",
      "5932.0 0.005275507236078564 83 116\n",
      "Significant\n",
      "***\n",
      "Kotlin R\n",
      "5804.0 5.7501461564201934e-08 83 95\n",
      "Significant\n",
      "***\n",
      "Kotlin Rust\n",
      "4537.0 0.0007725768140210236 83 84\n",
      "Significant\n",
      "***\n",
      "Python R\n",
      "7446.5 1.1451187244448277e-05 116 95\n",
      "Significant\n",
      "***\n",
      "Python Rust\n",
      "5497.0 0.12214391260211363 116 84\n",
      "***\n",
      "R Rust\n",
      "3008.5 0.004575656034084488 95 84\n",
      "Significant\n",
      "***\n"
     ]
    }
   ],
   "source": [
    "# now we want to know which groups are statistically different from each other\n",
    "# we use the Mann-Whitney U test\n",
    "\n",
    "alpha = 0.05\n",
    "\n",
    "# n_licenses\n",
    "for i in range(len(avg_licenses_per_file_per_language)):\n",
    "    for j in range(i+1, len(avg_licenses_per_file_per_language)):\n",
    "        print(languages_analyzed[i], languages_analyzed[j])\n",
    "        h_statistic, p_value = stats.mannwhitneyu(avg_licenses_per_file_per_language[i], avg_licenses_per_file_per_language[j])\n",
    "\n",
    "        print(h_statistic, p_value, len(avg_licenses_per_file_per_language[i]), len(avg_licenses_per_file_per_language[j]))\n",
    "\n",
    "        if p_value < alpha:\n",
    "            print('Significant')\n",
    "\n",
    "        print('***')"
   ]
  },
  {
   "cell_type": "code",
   "execution_count": 25,
   "metadata": {},
   "outputs": [
    {
     "data": {
      "image/png": "[encoded data removed]",
      "text/plain": [
       "<Figure size 1000x400 with 1 Axes>"
      ]
     },
     "metadata": {},
     "output_type": "display_data"
    }
   ],
   "source": [
    "# Go Julia Rust Other Python JavaScript R C++ Java Kotlin C HTML Shell TypeScript\n",
    "# plot the distribution of the number of licenses per language\n",
    "# using boxplots\n",
    "\n",
    "fig, ax = plt.subplots(figsize=(10, 4))\n",
    "\n",
    "ax.boxplot(avg_licenses_per_file_per_language, labels=languages_analyzed, showfliers=False)\n",
    "\n",
    "ax.set_ylabel('Number of licenses')\n",
    "ax.set_xlabel('Programming language')\n",
    "ax.set_title('Number of licenses per programming language');"
   ]
  },
  {
   "cell_type": "markdown",
   "metadata": {},
   "source": [
    "#### Which group differ - average number of UNIQUE licenses per project? (NORMALIZED)"
   ]
  },
  {
   "cell_type": "code",
   "execution_count": 26,
   "metadata": {},
   "outputs": [
    {
     "name": "stdout",
     "output_type": "stream",
     "text": [
      "C Java\n",
      "5536.5 0.07699489183321175 92 105\n",
      "***\n",
      "C JavaScript\n",
      "4627.5 0.02247549771683688 92 123\n",
      "Significant\n",
      "***\n",
      "C Julia\n",
      "3658.0 0.3864929620278934 92 86\n",
      "***\n",
      "C Kotlin\n",
      "4271.5 0.1758512601847887 92 83\n",
      "***\n",
      "C Python\n",
      "4611.0 0.09285401519306967 92 116\n",
      "***\n",
      "C R\n",
      "4487.5 0.7518580280070268 92 95\n",
      "***\n",
      "C Rust\n",
      "4422.5 0.09838093938165499 92 84\n",
      "***\n",
      "Java JavaScript\n",
      "4626.0 0.0002257707447085008 105 123\n",
      "Significant\n",
      "***\n",
      "Java Julia\n",
      "3673.5 0.026925540214304718 105 86\n",
      "Significant\n",
      "***\n",
      "Java Kotlin\n",
      "4188.5 0.6492429478314481 105 83\n",
      "***\n",
      "Java Python\n",
      "4629.0 0.002091706723928436 105 116\n",
      "Significant\n",
      "***\n",
      "Java R\n",
      "4469.5 0.20549157476800328 105 95\n",
      "***\n",
      "Java Rust\n",
      "4346.0 0.8650689920336312 105 84\n",
      "***\n",
      "JavaScript Julia\n",
      "5887.5 0.16455054208601927 123 86\n",
      "***\n",
      "JavaScript Kotlin\n",
      "6497.0 0.0009094918718828786 123 83\n",
      "Significant\n",
      "***\n",
      "JavaScript Python\n",
      "7457.0 0.5460127934623923 123 116\n",
      "***\n",
      "JavaScript R\n",
      "6985.0 0.013397481525197236 123 95\n",
      "Significant\n",
      "***\n",
      "JavaScript Rust\n",
      "6633.5 0.0005270826722172158 123 84\n",
      "Significant\n",
      "***\n",
      "Julia Kotlin\n",
      "4300.5 0.021514264180101245 86 83\n",
      "Significant\n",
      "***\n",
      "Julia Python\n",
      "4580.5 0.3217862598342406 86 116\n",
      "***\n",
      "Julia R\n",
      "4567.5 0.17089921911001238 86 95\n",
      "***\n",
      "Julia Rust\n",
      "4407.5 0.013216592632248775 86 84\n",
      "Significant\n",
      "***\n",
      "Kotlin Python\n",
      "3745.0 0.007642019350111506 83 116\n",
      "Significant\n",
      "***\n",
      "Kotlin R\n",
      "3598.0 0.31583076827382683 83 95\n",
      "***\n",
      "Kotlin Rust\n",
      "3570.5 0.7880308724025809 83 84\n",
      "***\n",
      "Python R\n",
      "6344.5 0.058717718438966914 116 95\n",
      "***\n",
      "Python Rust\n",
      "5991.5 0.005606361460922423 116 84\n",
      "Significant\n",
      "***\n",
      "R Rust\n",
      "4445.0 0.18894933768393052 95 84\n",
      "***\n"
     ]
    }
   ],
   "source": [
    "# now we want to know which groups are statistically different from each other\n",
    "# we use the Mann-Whitney U test\n",
    "\n",
    "alpha = 0.05\n",
    "\n",
    "# n_licenses\n",
    "for i in range(len(avg_unique_licenses_per_file_per_language)):\n",
    "    for j in range(i+1, len(avg_unique_licenses_per_file_per_language)):\n",
    "        print(languages_analyzed[i], languages_analyzed[j])\n",
    "        h_statistic, p_value = stats.mannwhitneyu(avg_unique_licenses_per_file_per_language[i], avg_unique_licenses_per_file_per_language[j])\n",
    "\n",
    "        print(h_statistic, p_value, len(avg_unique_licenses_per_file_per_language[i]), len(avg_unique_licenses_per_file_per_language[j]))\n",
    "\n",
    "        if p_value < alpha:\n",
    "            print('Significant')\n",
    "\n",
    "        print('***')"
   ]
  },
  {
   "cell_type": "code",
   "execution_count": 27,
   "metadata": {},
   "outputs": [
    {
     "data": {
      "image/png": "[encoded data removed]",
      "text/plain": [
       "<Figure size 1000x400 with 1 Axes>"
      ]
     },
     "metadata": {},
     "output_type": "display_data"
    }
   ],
   "source": [
    "# Go Julia Rust Other Python JavaScript R C++ Java Kotlin C HTML Shell TypeScript\n",
    "# plot the distribution of the number of licenses per language\n",
    "# using boxplots\n",
    "\n",
    "fig, ax = plt.subplots(figsize=(10, 4))\n",
    "\n",
    "ax.boxplot(avg_unique_licenses_per_file_per_language, labels=languages_analyzed, showfliers=False)\n",
    "\n",
    "ax.set_ylabel('Number of unique licenses')\n",
    "ax.set_xlabel('Programming language')\n",
    "ax.set_title('Number of licenses per programming language');"
   ]
  },
  {
   "cell_type": "markdown",
   "metadata": {},
   "source": [
    "#### Which group differ - average number of mismatches per project? (NORMALIZED)"
   ]
  },
  {
   "cell_type": "code",
   "execution_count": 28,
   "metadata": {},
   "outputs": [
    {
     "name": "stdout",
     "output_type": "stream",
     "text": [
      "C Java\n",
      "8099.5 9.874051141780651e-17 92 105\n",
      "Significant\n",
      "***\n",
      "C JavaScript\n",
      "8890.5 2.3919324666915544e-13 92 123\n",
      "Significant\n",
      "***\n",
      "C Julia\n",
      "6885.5 9.914244911685176e-19 92 86\n",
      "Significant\n",
      "***\n",
      "C Kotlin\n",
      "6240.0 3.7330607909532725e-13 92 83\n",
      "Significant\n",
      "***\n",
      "C Python\n",
      "8464.5 2.0016426710146715e-13 92 116\n",
      "Significant\n",
      "***\n",
      "C R\n",
      "7225.0 5.047997471944116e-15 92 95\n",
      "Significant\n",
      "***\n",
      "C Rust\n",
      "5575.0 3.936457472116605e-07 92 84\n",
      "Significant\n",
      "***\n",
      "Java JavaScript\n",
      "6270.0 0.687182089447131 105 123\n",
      "***\n",
      "Java Julia\n",
      "5537.0 0.0027208127476521077 105 86\n",
      "Significant\n",
      "***\n",
      "Java Kotlin\n",
      "3474.5 0.014091050345548497 105 83\n",
      "Significant\n",
      "***\n",
      "Java Python\n",
      "5386.0 0.12030609796817916 105 116\n",
      "***\n",
      "Java R\n",
      "4843.0 0.7092732416750347 105 95\n",
      "***\n",
      "Java Rust\n",
      "2589.0 7.210957116773073e-07 105 84\n",
      "Significant\n",
      "***\n",
      "JavaScript Julia\n",
      "6441.5 0.00236410355776487 123 86\n",
      "Significant\n",
      "***\n",
      "JavaScript Kotlin\n",
      "4492.0 0.1282660849283342 123 83\n",
      "***\n",
      "JavaScript Python\n",
      "6666.5 0.3537172703083069 123 116\n",
      "***\n",
      "JavaScript R\n",
      "5919.5 0.8588720577694333 123 95\n",
      "***\n",
      "JavaScript Rust\n",
      "3571.0 0.0001094136835620836 123 84\n",
      "Significant\n",
      "***\n",
      "Julia Kotlin\n",
      "2136.0 1.3346352206667284e-06 86 83\n",
      "Significant\n",
      "***\n",
      "Julia Python\n",
      "3488.0 6.132384415565896e-05 86 116\n",
      "Significant\n",
      "***\n",
      "Julia R\n",
      "3149.0 0.0027477843707334783 86 95\n",
      "Significant\n",
      "***\n",
      "Julia Rust\n",
      "1548.0 1.8900713584278565e-11 86 84\n",
      "Significant\n",
      "***\n",
      "Kotlin Python\n",
      "5048.0 0.5495118514564412 83 116\n",
      "***\n",
      "Kotlin R\n",
      "4531.5 0.07661858406628227 83 95\n",
      "***\n",
      "Kotlin Rust\n",
      "2654.0 0.007475425327605864 83 84\n",
      "Significant\n",
      "***\n",
      "Python R\n",
      "5993.5 0.250077695342411 116 95\n",
      "***\n",
      "Python Rust\n",
      "3649.0 0.00212529405494932 116 84\n",
      "Significant\n",
      "***\n",
      "R Rust\n",
      "2579.0 3.353619677087698e-05 95 84\n",
      "Significant\n",
      "***\n"
     ]
    }
   ],
   "source": [
    "# now we want to know which groups are statistically different from each other\n",
    "# we use the Mann-Whitney U test\n",
    "\n",
    "alpha = 0.05\n",
    "\n",
    "#n_mismatches\n",
    "for i in range(len(avg_mismatches_per_file_per_language)):\n",
    "    for j in range(i+1, len(avg_mismatches_per_file_per_language)):\n",
    "        print(languages_analyzed[i], languages_analyzed[j])\n",
    "        h_statistic, p_value = stats.mannwhitneyu(avg_mismatches_per_file_per_language[i], avg_mismatches_per_file_per_language[j])\n",
    "\n",
    "        print(h_statistic, p_value, len(avg_mismatches_per_file_per_language[i]), len(avg_mismatches_per_file_per_language[j]))\n",
    "\n",
    "        if p_value < alpha:\n",
    "            print('Significant')\n",
    "\n",
    "        print('***')"
   ]
  },
  {
   "cell_type": "code",
   "execution_count": 29,
   "metadata": {},
   "outputs": [
    {
     "data": {
      "image/png": "[encoded data removed]",
      "text/plain": [
       "<Figure size 1000x400 with 1 Axes>"
      ]
     },
     "metadata": {},
     "output_type": "display_data"
    }
   ],
   "source": [
    "# Go Julia Rust Other Python JavaScript R C++ Java Kotlin C HTML Shell TypeScript\n",
    "# plot the distribution of the number of mismatches per language\n",
    "# using boxplots\n",
    "\n",
    "fig, ax = plt.subplots(figsize=(10, 4))\n",
    "\n",
    "ax.boxplot(avg_mismatches_per_file_per_language, labels=languages_analyzed, showfliers=False)\n",
    "\n",
    "ax.set_ylabel('Number of mismatches')\n",
    "ax.set_xlabel('Programming language')\n",
    "ax.set_title('Number of mismatches per programming language');"
   ]
  },
  {
   "cell_type": "markdown",
   "metadata": {},
   "source": [
    "#### Which group differ - average number of conflicts per project? (NORMALIZED)"
   ]
  },
  {
   "cell_type": "code",
   "execution_count": 30,
   "metadata": {},
   "outputs": [
    {
     "name": "stdout",
     "output_type": "stream",
     "text": [
      "C Java\n",
      "8124.0 6.137110231858866e-17 92 105\n",
      "Significant\n",
      "***\n",
      "C JavaScript\n",
      "9045.5 1.8232870995268023e-14 92 123\n",
      "Significant\n",
      "***\n",
      "C Julia\n",
      "6862.0 2.905286605111219e-18 92 86\n",
      "Significant\n",
      "***\n",
      "C Kotlin\n",
      "6213.5 6.93493693857875e-13 92 83\n",
      "Significant\n",
      "***\n",
      "C Python\n",
      "8600.0 1.7604942397912077e-14 92 116\n",
      "Significant\n",
      "***\n",
      "C R\n",
      "7400.5 6.850685170198284e-17 92 95\n",
      "Significant\n",
      "***\n",
      "C Rust\n",
      "5674.0 8.070165254353694e-08 92 84\n",
      "Significant\n",
      "***\n",
      "Java JavaScript\n",
      "6241.5 0.6444214807472153 105 123\n",
      "***\n",
      "Java Julia\n",
      "5355.0 0.015283184272862923 105 86\n",
      "Significant\n",
      "***\n",
      "Java Kotlin\n",
      "3347.5 0.005142741107348738 105 83\n",
      "Significant\n",
      "***\n",
      "Java Python\n",
      "5424.5 0.14256576401814502 105 116\n",
      "***\n",
      "Java R\n",
      "5213.0 0.5562271171475889 105 95\n",
      "***\n",
      "Java Rust\n",
      "2573.0 5.885278890576396e-07 105 84\n",
      "Significant\n",
      "***\n",
      "JavaScript Julia\n",
      "6291.5 0.009483049874956531 123 86\n",
      "Significant\n",
      "***\n",
      "JavaScript Kotlin\n",
      "4383.0 0.07477762634706155 123 83\n",
      "***\n",
      "JavaScript Python\n",
      "6720.0 0.4130533949084644 123 116\n",
      "***\n",
      "JavaScript R\n",
      "6272.5 0.3139778951252997 123 95\n",
      "***\n",
      "JavaScript Rust\n",
      "3543.0 8.545784619129822e-05 123 84\n",
      "Significant\n",
      "***\n",
      "Julia Kotlin\n",
      "2200.0 5.322608723062578e-06 86 83\n",
      "Significant\n",
      "***\n",
      "Julia Python\n",
      "3678.0 0.0005336646923769733 86 116\n",
      "Significant\n",
      "***\n",
      "Julia R\n",
      "3573.0 0.09894194739111478 86 95\n",
      "***\n",
      "Julia Rust\n",
      "1646.0 2.1294538130173852e-10 86 84\n",
      "Significant\n",
      "***\n",
      "Kotlin Python\n",
      "5180.5 0.3492182357276158 83 116\n",
      "***\n",
      "Kotlin R\n",
      "4907.0 0.003527005347672555 83 95\n",
      "Significant\n",
      "***\n",
      "Kotlin Rust\n",
      "2707.0 0.012335639431338929 83 84\n",
      "Significant\n",
      "***\n",
      "Python R\n",
      "6307.0 0.055279392505712364 116 95\n",
      "***\n",
      "Python Rust\n",
      "3596.0 0.001349083901131781 116 84\n",
      "Significant\n",
      "***\n",
      "R Rust\n",
      "2305.0 6.226841551425746e-07 95 84\n",
      "Significant\n",
      "***\n"
     ]
    }
   ],
   "source": [
    "# now we want to know which groups are statistically different from each other\n",
    "# we use the Mann-Whitney U test\n",
    "\n",
    "alpha = 0.05\n",
    "\n",
    "#n_conflicts\n",
    "for i in range(len(avg_conflicts_per_file_per_language)):\n",
    "    for j in range(i+1, len(n_conflicts_per_language)):\n",
    "        print(languages_analyzed[i], languages_analyzed[j])\n",
    "        h_statistic, p_value = stats.mannwhitneyu(avg_conflicts_per_file_per_language[i], avg_conflicts_per_file_per_language[j])\n",
    "\n",
    "        print(h_statistic, p_value, len(avg_conflicts_per_file_per_language[i]), len(avg_conflicts_per_file_per_language[j]))\n",
    "\n",
    "        if p_value < alpha:\n",
    "            print('Significant')\n",
    "\n",
    "        print('***')"
   ]
  },
  {
   "cell_type": "code",
   "execution_count": 31,
   "metadata": {},
   "outputs": [
    {
     "data": {
      "image/png": "[encoded data removed]",
      "text/plain": [
       "<Figure size 1000x400 with 1 Axes>"
      ]
     },
     "metadata": {},
     "output_type": "display_data"
    }
   ],
   "source": [
    "# Go Julia Rust Other Python JavaScript R C++ Java Kotlin C HTML Shell TypeScript\n",
    "# plot the distribution of the number of conflicts per language\n",
    "# using boxplots\n",
    "\n",
    "fig, ax = plt.subplots(figsize=(10, 4))\n",
    "\n",
    "ax.boxplot(avg_conflicts_per_file_per_language, labels=languages_analyzed, showfliers=False)\n",
    "\n",
    "ax.set_ylabel('Number of conflicts')\n",
    "ax.set_xlabel('Programming language')\n",
    "ax.set_title('Number of conflicts per programming language');"
   ]
  },
  {
   "cell_type": "code",
   "execution_count": 36,
   "metadata": {},
   "outputs": [
    {
     "data": {
      "text/plain": [
       "['C', 'Java', 'JavaScript', 'Julia', 'Kotlin', 'Python', 'R', 'Rust']"
      ]
     },
     "execution_count": 36,
     "metadata": {},
     "output_type": "execute_result"
    }
   ],
   "source": [
    "languages_analyzed"
   ]
  },
  {
   "cell_type": "code",
   "execution_count": 32,
   "metadata": {},
   "outputs": [],
   "source": [
    "# we only want to consider the languages that have at least 80 projects\n",
    "# namely, C, Java, JavaScript, Julia, Kotlin, Python, R, and Rust\n",
    "idxs_to_consider = [0, 1, 2, 3, 4, 5, 6, 7]\n",
    "\n",
    "# filter the languages based on the above indices\n",
    "_languages_analyzed= [languages_analyzed[i] for i in idxs_to_consider]\n",
    "_avg_licenses_per_file_per_language = [avg_licenses_per_file_per_language[i] for i in idxs_to_consider]\n",
    "_avg_unique_licenses_per_file_per_language = [avg_unique_licenses_per_file_per_language[i] for i in idxs_to_consider]\n",
    "_avg_mismatches_per_file_per_language = [avg_mismatches_per_file_per_language[i] for i in idxs_to_consider]\n",
    "_avg_conflicts_per_file_per_language = [avg_conflicts_per_file_per_language[i] for i in idxs_to_consider]"
   ]
  },
  {
   "cell_type": "code",
   "execution_count": 33,
   "metadata": {},
   "outputs": [],
   "source": [
    "# zip the languages_analyzed with n_licenses_per_language, n_mismatches_per_language, and n_conflicts_per_language\n",
    "# and sort them alphabetically\n",
    "zipped = list(\n",
    "    zip(\n",
    "        _languages_analyzed, \n",
    "        _avg_licenses_per_file_per_language, \n",
    "        _avg_unique_licenses_per_file_per_language, \n",
    "        _avg_mismatches_per_file_per_language, \n",
    "        _avg_conflicts_per_file_per_language)\n",
    "    )\n",
    "zipped = sorted(zipped, key=lambda x: x[0])"
   ]
  },
  {
   "cell_type": "code",
   "execution_count": 34,
   "metadata": {},
   "outputs": [],
   "source": [
    "pl_labels = [z[0] for z in zipped]\n",
    "pl_n_licenses = [z[1] for z in zipped]\n",
    "pl_n_unique_licenses = [z[2] for z in zipped]\n",
    "pl_n_mismatches = [z[3] for z in zipped]\n",
    "pl_n_conflicts = [z[4] for z in zipped]"
   ]
  },
  {
   "cell_type": "code",
   "execution_count": 39,
   "metadata": {},
   "outputs": [
    {
     "data": {
      "image/png": "[encoded data removed]",
      "text/plain": [
       "<Figure size 800x700 with 3 Axes>"
      ]
     },
     "metadata": {},
     "output_type": "display_data"
    }
   ],
   "source": [
    "# I want to visualize all plots together\n",
    "# using boxplots\n",
    "\n",
    "fig, ax = plt.subplots(3, 1, figsize=(8, 7))\n",
    "\n",
    "axs_size = 13\n",
    "\n",
    "ax[0].boxplot(pl_n_licenses, labels=pl_labels, showfliers=False)\n",
    "ax[0].xaxis.label.set_size(axs_size)\n",
    "ax[0].yaxis.label.set_size(axs_size)\n",
    "ax[0].set_ylabel('# licenses\\n', labelpad=20)\n",
    "\n",
    "ax[1].boxplot(pl_n_mismatches, labels=pl_labels, showfliers=False)\n",
    "ax[1].xaxis.label.set_size(axs_size)\n",
    "ax[1].yaxis.label.set_size(axs_size)\n",
    "ax[1].set_ylabel('# multi-class license \\n occurrences', labelpad=15)\n",
    "\n",
    "ax[2].boxplot(pl_n_conflicts, labels=pl_labels, showfliers=False)\n",
    "ax[2].xaxis.label.set_size(axs_size)\n",
    "ax[2].yaxis.label.set_size(axs_size)\n",
    "ax[2].set_ylabel('# conflicts\\n', labelpad=20)\n",
    "\n",
    "#ax[2].set_xlabel('Programming language')\n",
    "\n",
    "#ax[0].set_title('Number of licenses, mismatches, and conflicts per programming language')\n",
    "\n",
    "plt.tight_layout();\n",
    "plt.savefig('number_licenses_mismatches_conflicts_per_language_rev2.png')"
   ]
  },
  {
   "cell_type": "code",
   "execution_count": null,
   "metadata": {},
   "outputs": [],
   "source": []
  }
 ],
 "metadata": {
  "kernelspec": {
   "display_name": "env",
   "language": "python",
   "name": "python3"
  },
  "language_info": {
   "codemirror_mode": {
    "name": "ipython",
    "version": 3
   },
   "file_extension": ".py",
   "mimetype": "text/x-python",
   "name": "python",
   "nbconvert_exporter": "python",
   "pygments_lexer": "ipython3",
   "version": "3.11.4"
  }
 },
 "nbformat": 4,
 "nbformat_minor": 2
}
