{
 "cells": [
  {
   "cell_type": "code",
   "execution_count": 47,
   "metadata": {},
   "outputs": [],
   "source": [
    "import json\n",
    "import matplotlib.pyplot as plt\n",
    "import numpy as np\n",
    "import pickle\n",
    "import scipy"
   ]
  },
  {
   "cell_type": "markdown",
   "metadata": {},
   "source": [
    "### Loading data"
   ]
  },
  {
   "cell_type": "code",
   "execution_count": 48,
   "metadata": {},
   "outputs": [],
   "source": [
    "basepath = '../data_swh/top100'\n",
    "output_path = '../results'\n",
    "\n",
    "fpath = basepath + '/all_data.json'"
   ]
  },
  {
   "cell_type": "code",
   "execution_count": 49,
   "metadata": {},
   "outputs": [
    {
     "data": {
      "text/plain": [
       "890"
      ]
     },
     "execution_count": 49,
     "metadata": {},
     "output_type": "execute_result"
    }
   ],
   "source": [
    "# read each line of the file as a json object\n",
    "data_json = []\n",
    "\n",
    "with open(fpath) as f:\n",
    "    data_json = [json.loads(line) for line in f]\n",
    "\n",
    "len(data_json)"
   ]
  },
  {
   "cell_type": "code",
   "execution_count": 50,
   "metadata": {},
   "outputs": [
    {
     "data": {
      "text/plain": [
       "835"
      ]
     },
     "execution_count": 50,
     "metadata": {},
     "output_type": "execute_result"
    }
   ],
   "source": [
    "p_ids = set(p['project_id'] for p in data_json)\n",
    "len(p_ids)"
   ]
  },
  {
   "cell_type": "markdown",
   "metadata": {},
   "source": [
    "### A first look at the data"
   ]
  },
  {
   "cell_type": "markdown",
   "metadata": {},
   "source": [
    "##### Number of licenses"
   ]
  },
  {
   "cell_type": "code",
   "execution_count": 51,
   "metadata": {},
   "outputs": [],
   "source": [
    "project_sizes = []\n",
    "for i in range(len(data_json)):\n",
    "    project_sizes.append(data_json[i]['n_project_files'])"
   ]
  },
  {
   "cell_type": "code",
   "execution_count": 52,
   "metadata": {},
   "outputs": [
    {
     "data": {
      "text/plain": [
       "array([  20.  ,   69.25,  235.  ,  899.5 , 4267.7 ])"
      ]
     },
     "execution_count": 52,
     "metadata": {},
     "output_type": "execute_result"
    }
   ],
   "source": [
    "# get the quantiles of the project size\n",
    "np.quantile(project_sizes, [0.1, 0.25, 0.5, 0.75, 0.9])"
   ]
  },
  {
   "cell_type": "code",
   "execution_count": 53,
   "metadata": {},
   "outputs": [],
   "source": [
    "n_declared_licenses = []\n",
    "for i in range(len(data_json)):\n",
    "    n_declared_licenses.append(data_json[i]['n_project_declared_licenses'])"
   ]
  },
  {
   "cell_type": "code",
   "execution_count": 54,
   "metadata": {},
   "outputs": [
    {
     "data": {
      "text/plain": [
       "array([ 1. ,  2. ,  3. ,  9. , 10. , 33.1])"
      ]
     },
     "execution_count": 54,
     "metadata": {},
     "output_type": "execute_result"
    }
   ],
   "source": [
    "# get the quantiles of the declared licenses\n",
    "np.quantile(n_declared_licenses, [0.1, 0.25, 0.5, 0.75, 0.76, 0.9])"
   ]
  },
  {
   "cell_type": "code",
   "execution_count": 55,
   "metadata": {},
   "outputs": [],
   "source": [
    "n_incode_licenses = []\n",
    "for i in range(len(data_json)):\n",
    "    n_incode_licenses.append(data_json[i]['n_project_incode_licenses'])"
   ]
  },
  {
   "cell_type": "code",
   "execution_count": 56,
   "metadata": {},
   "outputs": [
    {
     "data": {
      "text/plain": [
       "array([0.000e+00, 1.000e+00, 8.000e+00, 1.150e+02, 1.372e+03])"
      ]
     },
     "execution_count": 56,
     "metadata": {},
     "output_type": "execute_result"
    }
   ],
   "source": [
    "# get the quantiles of the incode licenses\n",
    "np.quantile(n_incode_licenses, [0.1, 0.25, 0.5, 0.75, 0.9])"
   ]
  },
  {
   "cell_type": "code",
   "execution_count": 57,
   "metadata": {},
   "outputs": [],
   "source": [
    "n_licenses = [x+y for x,y in zip(n_declared_licenses, n_incode_licenses)]"
   ]
  },
  {
   "cell_type": "code",
   "execution_count": 58,
   "metadata": {},
   "outputs": [
    {
     "data": {
      "text/plain": [
       "array([   2. ,    4. ,   13. ,  137.5, 1400.6])"
      ]
     },
     "execution_count": 58,
     "metadata": {},
     "output_type": "execute_result"
    }
   ],
   "source": [
    "# get the quantiles of the incode licenses\n",
    "np.quantile(n_licenses, [0.1, 0.25, 0.5, 0.75, 0.9])"
   ]
  },
  {
   "cell_type": "markdown",
   "metadata": {},
   "source": [
    "##### Number of unique licenses"
   ]
  },
  {
   "cell_type": "code",
   "execution_count": 59,
   "metadata": {},
   "outputs": [],
   "source": [
    "unique_n_declared_licenses = []\n",
    "\n",
    "for i in range(len(data_json)):\n",
    "    unique_declared_licenses = set()\n",
    "    project_declared_licenses = data_json[i]['project_declared_licenses']\n",
    "\n",
    "    for j in range(len(project_declared_licenses)):\n",
    "        unique_declared_licenses.add(project_declared_licenses[j]['license'])\n",
    "        \n",
    "    unique_n_declared_licenses.append(len(unique_declared_licenses))"
   ]
  },
  {
   "cell_type": "code",
   "execution_count": 60,
   "metadata": {},
   "outputs": [
    {
     "data": {
      "text/plain": [
       "array([0., 1., 1., 2., 3.])"
      ]
     },
     "execution_count": 60,
     "metadata": {},
     "output_type": "execute_result"
    }
   ],
   "source": [
    "# get the quantiles of the unique declared licenses\n",
    "np.quantile(unique_n_declared_licenses, [0.1, 0.25, 0.5, 0.75, 0.9])"
   ]
  },
  {
   "cell_type": "code",
   "execution_count": 61,
   "metadata": {},
   "outputs": [
    {
     "data": {
      "text/plain": [
       "27"
      ]
     },
     "execution_count": 61,
     "metadata": {},
     "output_type": "execute_result"
    }
   ],
   "source": [
    "#get max value in unique_n_declared_licenses\n",
    "max(unique_n_declared_licenses)"
   ]
  },
  {
   "cell_type": "code",
   "execution_count": 62,
   "metadata": {},
   "outputs": [
    {
     "data": {
      "text/plain": [
       "array([ 3.  ,  3.  ,  4.  ,  4.  ,  5.  ,  6.  ,  6.  ,  7.  ,  8.  ,\n",
       "       11.11, 27.  ])"
      ]
     },
     "execution_count": 62,
     "metadata": {},
     "output_type": "execute_result"
    }
   ],
   "source": [
    "# get the quantiles of the unique declared licenses\n",
    "np.quantile(unique_n_declared_licenses, [0.9, 0.91, 0.92, 0.93, 0.94, 0.95, 0.96, 0.97, 0.98, 0.99, 1])"
   ]
  },
  {
   "cell_type": "code",
   "execution_count": 63,
   "metadata": {},
   "outputs": [],
   "source": [
    "unique_n_incode_licenses = []\n",
    "\n",
    "for i in range(len(data_json)):\n",
    "    unique_incode_licenses = set()\n",
    "    project_incode_licenses = data_json[i]['project_incode_licenses']\n",
    "\n",
    "    for j in range(len(project_incode_licenses)):\n",
    "        unique_incode_licenses.add(project_incode_licenses[j]['license'])\n",
    "        \n",
    "    unique_n_incode_licenses.append(len(unique_incode_licenses))"
   ]
  },
  {
   "cell_type": "code",
   "execution_count": 64,
   "metadata": {},
   "outputs": [
    {
     "data": {
      "text/plain": [
       "array([ 0.,  1.,  2.,  5., 14.])"
      ]
     },
     "execution_count": 64,
     "metadata": {},
     "output_type": "execute_result"
    }
   ],
   "source": [
    "# get the quantiles of the unique incode licenses\n",
    "np.quantile(unique_n_incode_licenses, [0.1, 0.25, 0.5, 0.75, 0.9])"
   ]
  },
  {
   "cell_type": "code",
   "execution_count": 65,
   "metadata": {},
   "outputs": [
    {
     "data": {
      "text/plain": [
       "array([ 1.  ,  2.  ,  3.  ,  6.75, 17.  ])"
      ]
     },
     "execution_count": 65,
     "metadata": {},
     "output_type": "execute_result"
    }
   ],
   "source": [
    "n_unique_licenses = [x+y for x,y in zip(unique_n_declared_licenses, unique_n_incode_licenses)]\n",
    "np.quantile(n_unique_licenses, [0.1, 0.25, 0.5, 0.75, 0.9])"
   ]
  },
  {
   "cell_type": "markdown",
   "metadata": {},
   "source": [
    "##### How many projects do not have any license?"
   ]
  },
  {
   "cell_type": "code",
   "execution_count": 66,
   "metadata": {},
   "outputs": [],
   "source": [
    "no_OSS_projects = [p for p in data_json if p['n_project_declared_licenses'] == 0 and p['n_project_incode_licenses'] == 0]"
   ]
  },
  {
   "cell_type": "code",
   "execution_count": 67,
   "metadata": {},
   "outputs": [
    {
     "data": {
      "text/plain": [
       "3"
      ]
     },
     "execution_count": 67,
     "metadata": {},
     "output_type": "execute_result"
    }
   ],
   "source": [
    "len(no_OSS_projects)"
   ]
  },
  {
   "cell_type": "code",
   "execution_count": 68,
   "metadata": {},
   "outputs": [
    {
     "data": {
      "text/plain": [
       "[{'project_id': 'a2a4e14fbafae7b43bad6c598aeb85dbbbb727f7',\n",
       "  'n_project_files': 25,\n",
       "  'n_project_declared_licenses': 0,\n",
       "  'n_project_incode_licenses': 0,\n",
       "  'project_declared_licenses': [],\n",
       "  'project_incode_licenses': [],\n",
       "  'between_declared_mismatches': {},\n",
       "  'between_incode_mismatches': {},\n",
       "  'between_declared_incode_mismatches': {},\n",
       "  'between_declared_conflicts': {},\n",
       "  'between_incode_conflicts': {},\n",
       "  'between_declared_incode_conflicts': {},\n",
       "  'project_name': 'JavaScript30',\n",
       "  'project_main_language': 'HTML',\n",
       "  'project_keywords': [],\n",
       "  'possible_between_declared_conflicts': {},\n",
       "  'possible_between_incode_conflicts': {},\n",
       "  'possible_between_declared_incode_conflicts': {}},\n",
       " {'project_id': 'ffa332f9ae391317e89f63c5a9644c1086e48dd1',\n",
       "  'n_project_files': 241,\n",
       "  'n_project_declared_licenses': 0,\n",
       "  'n_project_incode_licenses': 0,\n",
       "  'project_declared_licenses': [],\n",
       "  'project_incode_licenses': [],\n",
       "  'between_declared_mismatches': {},\n",
       "  'between_incode_mismatches': {},\n",
       "  'between_declared_incode_mismatches': {},\n",
       "  'between_declared_conflicts': {},\n",
       "  'between_incode_conflicts': {},\n",
       "  'between_declared_incode_conflicts': {},\n",
       "  'project_name': 'LeetCodeAnimation',\n",
       "  'project_main_language': 'Java',\n",
       "  'project_keywords': ['leetcode',\n",
       "   'leetcode-solutions',\n",
       "   'leetcode-java',\n",
       "   'animation',\n",
       "   'leetcode-c'],\n",
       "  'possible_between_declared_conflicts': {},\n",
       "  'possible_between_incode_conflicts': {},\n",
       "  'possible_between_declared_incode_conflicts': {}},\n",
       " {'project_id': 'faca56f30e91db60f9c0729d660605c0f30b7ee6',\n",
       "  'n_project_files': 43,\n",
       "  'n_project_declared_licenses': 0,\n",
       "  'n_project_incode_licenses': 0,\n",
       "  'project_declared_licenses': [],\n",
       "  'project_incode_licenses': [],\n",
       "  'between_declared_mismatches': {},\n",
       "  'between_incode_mismatches': {},\n",
       "  'between_declared_incode_mismatches': {},\n",
       "  'between_declared_conflicts': {},\n",
       "  'between_incode_conflicts': {},\n",
       "  'between_declared_incode_conflicts': {},\n",
       "  'project_name': 'django-api-rest-and-angular',\n",
       "  'project_main_language': 'Python',\n",
       "  'project_keywords': [],\n",
       "  'possible_between_declared_conflicts': {},\n",
       "  'possible_between_incode_conflicts': {},\n",
       "  'possible_between_declared_incode_conflicts': {}}]"
      ]
     },
     "execution_count": 68,
     "metadata": {},
     "output_type": "execute_result"
    }
   ],
   "source": [
    "no_OSS_projects"
   ]
  },
  {
   "cell_type": "markdown",
   "metadata": {},
   "source": [
    "##### How many projects include at least one commercial license?"
   ]
  },
  {
   "cell_type": "code",
   "execution_count": 69,
   "metadata": {},
   "outputs": [],
   "source": [
    "# scancodedb\n",
    "scancodedb_path = '../data/scancode_index.json'\n",
    "db = json.load(open(scancodedb_path, 'r'))"
   ]
  },
  {
   "cell_type": "code",
   "execution_count": 70,
   "metadata": {},
   "outputs": [],
   "source": [
    "NON_FREE_LICENSES = ['Commercial', 'Source-available', 'Patent License', 'Free Restricted']"
   ]
  },
  {
   "cell_type": "code",
   "execution_count": 71,
   "metadata": {},
   "outputs": [],
   "source": [
    "project_with_non_FOSS_licenses = [p for p in data_json if (any(lic['category'] in NON_FREE_LICENSES for lic in p['project_declared_licenses']) or any(lic['category'] in NON_FREE_LICENSES for lic in p['project_incode_licenses']))]"
   ]
  },
  {
   "cell_type": "code",
   "execution_count": 72,
   "metadata": {},
   "outputs": [
    {
     "data": {
      "text/plain": [
       "119"
      ]
     },
     "execution_count": 72,
     "metadata": {},
     "output_type": "execute_result"
    }
   ],
   "source": [
    "len(project_with_non_FOSS_licenses)"
   ]
  },
  {
   "cell_type": "code",
   "execution_count": 73,
   "metadata": {},
   "outputs": [],
   "source": [
    "# eval the combination of commercial licenses\n",
    "non_foss_license_combinations = {}\n",
    "\n",
    "for p in project_with_non_FOSS_licenses:\n",
    "    _declared_licenses = p['project_declared_licenses']\n",
    "    _incode_licenses = p['project_incode_licenses']\n",
    "\n",
    "    non_foss_licenses = set([lic['category'] for lic in _declared_licenses if lic['category'] in NON_FREE_LICENSES] + [lic['category'] for lic in _incode_licenses if lic['category'] in NON_FREE_LICENSES])\n",
    "\n",
    "    key = '_'.join(sorted(non_foss_licenses))\n",
    "\n",
    "    non_foss_license_combinations[key] = non_foss_license_combinations.get(key, 0) + 1"
   ]
  },
  {
   "cell_type": "code",
   "execution_count": 74,
   "metadata": {},
   "outputs": [
    {
     "data": {
      "text/plain": [
       "{'Patent License': 6,\n",
       " 'Commercial_Source-available': 12,\n",
       " 'Commercial': 61,\n",
       " 'Free Restricted': 5,\n",
       " 'Commercial_Free Restricted_Source-available': 2,\n",
       " 'Source-available': 29,\n",
       " 'Commercial_Patent License': 2,\n",
       " 'Commercial_Patent License_Source-available': 2}"
      ]
     },
     "execution_count": 74,
     "metadata": {},
     "output_type": "execute_result"
    }
   ],
   "source": [
    "non_foss_license_combinations"
   ]
  },
  {
   "cell_type": "markdown",
   "metadata": {},
   "source": [
    "##### Counting multi-class licenses\n",
    "In this notebook, we refer to multi-class licensing with the term \"mismatch\""
   ]
  },
  {
   "cell_type": "code",
   "execution_count": 75,
   "metadata": {},
   "outputs": [],
   "source": [
    "def flatten(l):\n",
    "    return [item for sublist in l for item in sublist]"
   ]
  },
  {
   "cell_type": "code",
   "execution_count": 81,
   "metadata": {},
   "outputs": [],
   "source": [
    "# count the number of mismatches between declared licenses\n",
    "declared_mismatches = []\n",
    "incode_mismatches = []\n",
    "declared_incode_mismatches = []\n",
    "\n",
    "# we also keep track of the number of multi-class licenses without considering the 'unknown'/'unstated' classes\n",
    "no_uu_declared_mismatches = []\n",
    "no_uu_incode_mismatches = []\n",
    "no_uu_declared_incode_mismatches = []\n",
    "\n",
    "for i in range(len(data_json)):\n",
    "    _declared_mismatches = sum(data_json[i]['between_declared_mismatches'].values()) \n",
    "    _incode_mismatches = sum(data_json[i]['between_incode_mismatches'].values())\n",
    "    _declared_incode_mismatches = sum(data_json[i]['between_declared_incode_mismatches'].values())\n",
    "\n",
    "    _no_uu_declared_mismatches = sum([v for k, v in data_json[i]['between_declared_mismatches'].items() if 'Unknown' in k or 'Unstated' in k])\n",
    "    _no_uu_incode_mismatches = sum([v for k, v in data_json[i]['between_incode_mismatches'].items() if 'Unknown' in k or 'Unstated' in k])\n",
    "    _no_uu_declared_incode_mismatches = sum([v for k, v in data_json[i]['between_declared_incode_mismatches'].items() if 'Unknown' in k or 'Unstated' in k])\n",
    "\n",
    "    # print(data_json[i]['between_declared_mismatches'].values())\n",
    "    # print(data_json[i]['between_incode_mismatches'].values())\n",
    "    # print(data_json[i]['between_declared_incode_mismatches'].values())\n",
    "\n",
    "    declared_mismatches.append(_declared_mismatches)\n",
    "    incode_mismatches.append(_incode_mismatches)\n",
    "    declared_incode_mismatches.append(_declared_incode_mismatches)\n",
    "\n",
    "    no_uu_declared_mismatches.append(_no_uu_declared_mismatches)\n",
    "    no_uu_incode_mismatches.append(_no_uu_incode_mismatches)\n",
    "    no_uu_declared_incode_mismatches.append(_no_uu_declared_incode_mismatches)"
   ]
  },
  {
   "cell_type": "code",
   "execution_count": 36,
   "metadata": {},
   "outputs": [
    {
     "name": "stdout",
     "output_type": "stream",
     "text": [
      "[0. 0. 0. 0. 2.]\n",
      "[ 0.    0.    1.    7.75 62.2 ]\n",
      "[ 0.   0.   1.   4.  27.1]\n"
     ]
    }
   ],
   "source": [
    "# get the quantiles of the mismatches by type\n",
    "print(np.quantile(declared_mismatches, [0.1, 0.25, 0.5, 0.75, 0.9]))\n",
    "print(np.quantile(incode_mismatches, [0.1, 0.25, 0.5, 0.75, 0.9]))\n",
    "print(np.quantile(declared_incode_mismatches, [0.1, 0.25, 0.5, 0.75, 0.9]))"
   ]
  },
  {
   "cell_type": "code",
   "execution_count": 82,
   "metadata": {},
   "outputs": [
    {
     "name": "stdout",
     "output_type": "stream",
     "text": [
      "[0. 0. 0. 0. 2.]\n",
      "[ 0.   0.   0.   5.  45.2]\n",
      "[ 0.  0.  0.  3. 19.]\n"
     ]
    }
   ],
   "source": [
    "# get the quantiles of the mismatches by type\n",
    "# without considering the 'unknown'/'unstated' classes\n",
    "print(np.quantile(no_uu_declared_mismatches, [0.1, 0.25, 0.5, 0.75, 0.9]))\n",
    "print(np.quantile(no_uu_incode_mismatches, [0.1, 0.25, 0.5, 0.75, 0.9]))\n",
    "print(np.quantile(no_uu_declared_incode_mismatches, [0.1, 0.25, 0.5, 0.75, 0.9]))"
   ]
  },
  {
   "cell_type": "markdown",
   "metadata": {},
   "source": [
    "##### Counting license conflicts"
   ]
  },
  {
   "cell_type": "code",
   "execution_count": 83,
   "metadata": {},
   "outputs": [],
   "source": [
    "# count the number of mismatches between declared licenses\n",
    "declared_conflicts = []\n",
    "incode_conflicts = []\n",
    "declared_incode_conflicts = []\n",
    "\n",
    "# we also keep track of the number of conflicts without considering the 'unknown'/'unstated' classes\n",
    "no_uu_declared_conflicts = []\n",
    "no_uu_incode_conflicts = []\n",
    "no_uu_declared_incode_conflicts = []\n",
    "\n",
    "for i in range(len(data_json)):\n",
    "    _declared_conflicts = sum(data_json[i]['between_declared_conflicts'].values()) + sum(data_json[i]['possible_between_declared_conflicts'].values())\n",
    "    _incode_conflicts = sum(data_json[i]['between_incode_conflicts'].values()) + sum(data_json[i]['possible_between_incode_conflicts'].values())\n",
    "    _declared_incode_conflicts = sum(data_json[i]['between_declared_incode_conflicts'].values()) + sum(data_json[i]['possible_between_declared_incode_conflicts'].values())\n",
    "\n",
    "    _no_uu_declared_conflicts = sum(data_json[i]['between_declared_conflicts'].values())\n",
    "    _no_uu_incode_conflicts = sum(data_json[i]['between_incode_conflicts'].values())\n",
    "    _no_uu_declared_incode_conflicts = sum(data_json[i]['between_declared_incode_conflicts'].values())\n",
    "\n",
    "    declared_conflicts.append(_declared_conflicts)\n",
    "    incode_conflicts.append(_incode_conflicts)\n",
    "    declared_incode_conflicts.append(_declared_incode_conflicts)\n",
    "\n",
    "    no_uu_declared_conflicts.append(_no_uu_declared_conflicts)\n",
    "    no_uu_incode_conflicts.append(_no_uu_incode_conflicts)\n",
    "    no_uu_declared_incode_conflicts.append(_no_uu_declared_incode_conflicts)"
   ]
  },
  {
   "cell_type": "code",
   "execution_count": 84,
   "metadata": {},
   "outputs": [
    {
     "name": "stdout",
     "output_type": "stream",
     "text": [
      "[0. 0. 0. 0. 3.]\n",
      "[ 0.    0.    1.    8.75 80.1 ]\n",
      "[ 0.    0.    1.    4.75 31.  ]\n"
     ]
    }
   ],
   "source": [
    "# get the quantiles of conflicts by type\n",
    "print(np.quantile(declared_conflicts, [0.1, 0.25, 0.5, 0.75, 0.9]))\n",
    "print(np.quantile(incode_conflicts, [0.1, 0.25, 0.5, 0.75, 0.9]))\n",
    "print(np.quantile(declared_incode_conflicts, [0.1, 0.25, 0.5, 0.75, 0.9]))"
   ]
  },
  {
   "cell_type": "code",
   "execution_count": 85,
   "metadata": {},
   "outputs": [
    {
     "name": "stdout",
     "output_type": "stream",
     "text": [
      "[0. 0. 0. 0. 2.]\n",
      "[ 0.   0.   1.   6.  51.2]\n",
      "[ 0.  0.  1.  4. 23.]\n"
     ]
    }
   ],
   "source": [
    "# get the quantiles of the conflicts\n",
    "# without considering the 'unknown'/'unstated' classes\n",
    "print(np.quantile(no_uu_declared_conflicts, [0.1, 0.25, 0.5, 0.75, 0.9]))\n",
    "print(np.quantile(no_uu_incode_conflicts, [0.1, 0.25, 0.5, 0.75, 0.9]))\n",
    "print(np.quantile(no_uu_declared_incode_conflicts, [0.1, 0.25, 0.5, 0.75, 0.9]))"
   ]
  },
  {
   "cell_type": "code",
   "execution_count": 86,
   "metadata": {},
   "outputs": [],
   "source": [
    "# check whether the projects with more than 3 conflicts between declared licenses\n",
    "# are the biggest ones\n",
    "most_conflictual_projects = []\n",
    "for i in range(len(data_json)):\n",
    "    if len(data_json[i]['between_declared_conflicts']) > 3:\n",
    "        most_conflictual_projects.append(data_json[i]['project_id'])"
   ]
  },
  {
   "cell_type": "code",
   "execution_count": 87,
   "metadata": {},
   "outputs": [
    {
     "data": {
      "text/plain": [
       "(63, 7.544910179640718)"
      ]
     },
     "execution_count": 87,
     "metadata": {},
     "output_type": "execute_result"
    }
   ],
   "source": [
    "len(most_conflictual_projects), (len(most_conflictual_projects)/len(p_ids))*100"
   ]
  },
  {
   "cell_type": "code",
   "execution_count": 89,
   "metadata": {},
   "outputs": [
    {
     "data": {
      "text/plain": [
       "(array([  623.2,  1836.5,  4628. , 17831. , 38897.4]), 155, 81000)"
      ]
     },
     "execution_count": 89,
     "metadata": {},
     "output_type": "execute_result"
    }
   ],
   "source": [
    "most_conflictual_projects_sizes = [p['n_project_files'] for p in data_json if p['project_id'] in most_conflictual_projects]\n",
    "np.quantile(most_conflictual_projects_sizes, [0.1, 0.25, 0.5, 0.75, 0.9]), min(most_conflictual_projects_sizes), max(most_conflictual_projects_sizes)"
   ]
  },
  {
   "cell_type": "markdown",
   "metadata": {},
   "source": [
    "### Correlation analysis"
   ]
  },
  {
   "cell_type": "code",
   "execution_count": 90,
   "metadata": {},
   "outputs": [],
   "source": [
    "def count_tot_mismatches(project_json):\n",
    "    tot_mismatches = 0\n",
    "    tot_mismatches += sum(project_json['between_declared_mismatches'].values()) \n",
    "    tot_mismatches += sum(project_json['between_incode_mismatches'].values())\n",
    "    tot_mismatches += sum(project_json['between_declared_incode_mismatches'].values())\n",
    "\n",
    "    no_uu_tot_mismatches = 0\n",
    "    no_uu_tot_mismatches += sum([v for k, v in project_json['between_declared_mismatches'].items() if 'Unknown' in k or 'Unstated' in k])\n",
    "    no_uu_tot_mismatches += sum([v for k, v in project_json['between_incode_mismatches'].items() if 'Unknown' in k or 'Unstated' in k])\n",
    "    no_uu_tot_mismatches += sum([v for k, v in project_json['between_declared_incode_mismatches'].items() if 'Unknown' in k or 'Unstated' in k])\n",
    "\n",
    "    return tot_mismatches, no_uu_tot_mismatches"
   ]
  },
  {
   "cell_type": "code",
   "execution_count": 91,
   "metadata": {},
   "outputs": [],
   "source": [
    "def count_tot_conflicts(project_json):\n",
    "    tot_conflicts = 0\n",
    "    tot_conflicts += sum(project_json['between_declared_conflicts'].values()) + sum(project_json['possible_between_declared_conflicts'].values())\n",
    "    tot_conflicts += sum(project_json['between_incode_conflicts'].values()) + sum(project_json['possible_between_incode_conflicts'].values())\n",
    "    tot_conflicts += sum(project_json['between_declared_incode_conflicts'].values()) + sum(project_json['possible_between_declared_incode_conflicts'].values())\n",
    "\n",
    "    no_uu_tot_conflicts = 0\n",
    "    no_uu_tot_conflicts += sum(project_json['between_declared_conflicts'].values())\n",
    "    no_uu_tot_conflicts += sum(project_json['between_incode_conflicts'].values())\n",
    "    no_uu_tot_conflicts += sum(project_json['between_declared_incode_conflicts'].values())\n",
    "\n",
    "    return tot_conflicts, no_uu_tot_conflicts"
   ]
  },
  {
   "cell_type": "code",
   "execution_count": 95,
   "metadata": {},
   "outputs": [],
   "source": [
    "tmp = [count_tot_mismatches(proj) for proj in data_json]\n",
    "n_mismatches = [x for x, _ in tmp]\n",
    "no_uu_n_mismatches = [y for _, y in tmp]"
   ]
  },
  {
   "cell_type": "code",
   "execution_count": 97,
   "metadata": {},
   "outputs": [],
   "source": [
    "tmp = [count_tot_conflicts(proj) for proj in data_json]\n",
    "n_conflicts = [x for x, _ in tmp]\n",
    "no_uu_n_conflicts = [y for _, y in tmp]"
   ]
  },
  {
   "cell_type": "code",
   "execution_count": 55,
   "metadata": {},
   "outputs": [],
   "source": [
    "# n_mismatches = [count_tot_mismatches(proj) for proj in data_json]\n",
    "# n_conflicts = [count_tot_conflicts(proj) for proj in data_json]"
   ]
  },
  {
   "cell_type": "markdown",
   "metadata": {},
   "source": [
    "#### Correlation between the number of mismatches/conflicts and the size of the projects / number of declared, incode licenses"
   ]
  },
  {
   "cell_type": "code",
   "execution_count": 106,
   "metadata": {},
   "outputs": [
    {
     "data": {
      "text/plain": [
       "<Figure size 640x480 with 0 Axes>"
      ]
     },
     "metadata": {},
     "output_type": "display_data"
    },
    {
     "data": {
      "image/png": "[encoded data removed]",
      "text/plain": [
       "<Figure size 900x800 with 4 Axes>"
      ]
     },
     "metadata": {},
     "output_type": "display_data"
    }
   ],
   "source": [
    "# UNIQUE\n",
    "# now we visualize the above plots in a single figure\n",
    "plt.clf()\n",
    "\n",
    "fig, axs = plt.subplots(2, 2, figsize=(9, 8))\n",
    "\n",
    "axs_size = 14\n",
    "label_size = 10\n",
    "\n",
    "# NUM LICENSES\n",
    "axs[0][0].scatter(project_sizes, n_licenses)\n",
    "# log x axis\n",
    "axs[0][0].set_xscale('log')\n",
    "# log y axis\n",
    "axs[0][0].set_yscale('log')\n",
    "#axs[0][0].set_xlabel('Number of files in the project')\n",
    "axs[0][0].set_ylabel('Number of licenses\\n')\n",
    "# large fontsize y label\n",
    "axs[0][0].xaxis.label.set_size(axs_size)\n",
    "axs[0][0].yaxis.label.set_size(axs_size)\n",
    "axs[0][0].tick_params(axis='both', which='major', labelsize=label_size)\n",
    "\n",
    "# NUM UNIQUE LICENSES\n",
    "axs[0][1].scatter(project_sizes, n_unique_licenses)\n",
    "# set max y value\n",
    "#axs[0][1].set_ylim([0, 200])\n",
    "\n",
    "# log x axis\n",
    "axs[0][1].set_xscale('log')\n",
    "# log y axis\n",
    "axs[0][1].set_yscale('log')\n",
    "#axs[0][1].set_xlabel('Number of files in the project')\n",
    "axs[0][1].set_ylabel('Number of unique licenses')\n",
    "# large fontsize y label\n",
    "axs[0][1].xaxis.label.set_size(axs_size)\n",
    "axs[0][1].yaxis.label.set_size(axs_size)\n",
    "axs[0][1].tick_params(axis='both', which='major', labelsize=label_size)\n",
    "\n",
    "# NUM mismatches\n",
    "axs[1][0].scatter(project_sizes, n_mismatches)\n",
    "# log x axis\n",
    "axs[1][0].set_xscale('log')\n",
    "axs[1][0].set_yscale('log')\n",
    "axs[1][0].set_xlabel('Number of files in the project')\n",
    "axs[1][0].set_ylabel('Number of multi-class \\n license occurrences')\n",
    "axs[1][0].xaxis.label.set_size(axs_size)\n",
    "axs[1][0].yaxis.label.set_size(axs_size)\n",
    "axs[1][0].tick_params(axis='both', which='major', labelsize=label_size)\n",
    "\n",
    "# NUM CONFLICTS\n",
    "axs[1][1].scatter(project_sizes, n_conflicts)\n",
    "# log x axis\n",
    "axs[1][1].set_xscale('log')\n",
    "axs[1][1].set_yscale('log')\n",
    "axs[1][1].set_xlabel('Number of files in the project')\n",
    "axs[1][1].set_ylabel('Number of license conflicts')\n",
    "axs[1][1].xaxis.label.set_size(axs_size)\n",
    "axs[1][1].yaxis.label.set_size(axs_size)\n",
    "axs[1][1].tick_params(axis='both', which='major', labelsize=label_size)\n",
    "\n",
    "fig.suptitle('Number of (unique) licenses, multi-class license occurrences, \\n and conflicts vs. project size', fontsize=15)\n",
    "\n",
    "fig.tight_layout() \n",
    "plt.savefig('number_of_licenses_mismatches_conflicts_vs_project_size_rev.png')"
   ]
  },
  {
   "cell_type": "code",
   "execution_count": 107,
   "metadata": {},
   "outputs": [
    {
     "name": "stdout",
     "output_type": "stream",
     "text": [
      "0.7481443944433622\n",
      "SignificanceResult(statistic=0.7705056740728611, pvalue=7.558930900096575e-176)\n",
      "SignificanceResult(statistic=0.5987718953940235, pvalue=7.333610693879924e-153)\n"
     ]
    }
   ],
   "source": [
    "# pearson correlation coefficient between project size and number of licenses\n",
    "print(np.corrcoef(project_sizes, n_licenses)[0, 1])\n",
    "\n",
    "# spearman correlation coefficient between project size and number of licenses\n",
    "print(scipy.stats.spearmanr(project_sizes, n_licenses))\n",
    "\n",
    "# kendall correlation coefficient between project size and number of licenses\n",
    "print(scipy.stats.kendalltau(project_sizes, n_licenses))"
   ]
  },
  {
   "cell_type": "code",
   "execution_count": 65,
   "metadata": {},
   "outputs": [
    {
     "name": "stdout",
     "output_type": "stream",
     "text": [
      "0.6761426798220687\n",
      "SignificanceResult(statistic=0.7137559614561156, pvalue=1.7295116541592913e-139)\n",
      "SignificanceResult(statistic=0.5471282889992769, pvalue=1.0228156304486945e-119)\n"
     ]
    }
   ],
   "source": [
    "# pearson correlation coefficient between project size and number of unique licenses\n",
    "print(np.corrcoef(project_sizes, n_unique_licenses)[0, 1])\n",
    "\n",
    "# spearman correlation coefficient between project size and number of unique licenses\n",
    "print(scipy.stats.spearmanr(project_sizes, n_unique_licenses))\n",
    "\n",
    "# kendall correlation coefficient between project size and number of unique licenses\n",
    "print(scipy.stats.kendalltau(project_sizes, n_unique_licenses))"
   ]
  },
  {
   "cell_type": "code",
   "execution_count": 110,
   "metadata": {},
   "outputs": [
    {
     "name": "stdout",
     "output_type": "stream",
     "text": [
      "0.6544679171791988\n",
      "SignificanceResult(statistic=0.6917932753465632, pvalue=1.045202788284777e-127)\n",
      "SignificanceResult(statistic=0.5260139865507746, pvalue=1.3681470831227042e-107)\n",
      "\n",
      "0.6565398170904075\n",
      "SignificanceResult(statistic=0.6437064024295437, pvalue=2.7987378938605002e-105)\n",
      "SignificanceResult(statistic=0.496966770221302, pvalue=5.2024251919060084e-92)\n"
     ]
    }
   ],
   "source": [
    "# pearson correlation coefficient between project size and number of mismatches\n",
    "print(np.corrcoef(project_sizes, n_mismatches)[0, 1])\n",
    "\n",
    "# spearman correlation coefficient between project size and number of mismatches\n",
    "print(scipy.stats.spearmanr(project_sizes, n_mismatches))\n",
    "\n",
    "# kendall correlation coefficient between project size and number of mismatches\n",
    "print(scipy.stats.kendalltau(project_sizes, n_mismatches))\n",
    "\n",
    "#######################################################\n",
    "print()\n",
    "\n",
    "# pearson correlation coefficient between project size and number of mismatches (no 'unknown'/'unstated' classes)\n",
    "print(np.corrcoef(project_sizes, no_uu_n_mismatches)[0, 1])\n",
    "\n",
    "# spearman correlation coefficient between project size and number of mismatches (no 'unknown'/'unstated' classes)\n",
    "print(scipy.stats.spearmanr(project_sizes, no_uu_n_mismatches))\n",
    "\n",
    "# kendall correlation coefficient between project size and number of mismatches (no 'unknown'/'unstated' classes)\n",
    "print(scipy.stats.kendalltau(project_sizes, no_uu_n_mismatches))"
   ]
  },
  {
   "cell_type": "code",
   "execution_count": 111,
   "metadata": {},
   "outputs": [
    {
     "name": "stdout",
     "output_type": "stream",
     "text": [
      "0.6458414499025532\n",
      "SignificanceResult(statistic=0.6970070517615765, pvalue=2.0865931917262323e-130)\n",
      "SignificanceResult(statistic=0.531488120387068, pvalue=5.918217442829056e-110)\n",
      "\n",
      "0.6297509414443149\n",
      "SignificanceResult(statistic=0.6799098922818193, pvalue=9.171762144044613e-122)\n",
      "SignificanceResult(statistic=0.5201820524900326, pvalue=4.362884954392669e-104)\n"
     ]
    }
   ],
   "source": [
    "# pearson correlation coefficient between project size and number of conflicts\n",
    "print(np.corrcoef(project_sizes, n_conflicts)[0, 1])\n",
    "\n",
    "# spearman correlation coefficient between project size and number of conflicts\n",
    "print(scipy.stats.spearmanr(project_sizes, n_conflicts))\n",
    "\n",
    "# kendall correlation coefficient between project size and number of conflicts\n",
    "print(scipy.stats.kendalltau(project_sizes, n_conflicts))\n",
    "\n",
    "#######################################################\n",
    "print()\n",
    "\n",
    "# pearson correlation coefficient between project size and number of conflicts (no 'unknown'/'unstated' classes)\n",
    "print(np.corrcoef(project_sizes, no_uu_n_conflicts)[0, 1])\n",
    "\n",
    "# spearman correlation coefficient between project size and number of conflicts (no 'unknown'/'unstated' classes)\n",
    "print(scipy.stats.spearmanr(project_sizes, no_uu_n_conflicts))\n",
    "\n",
    "# kendall correlation coefficient between project size and number of conflicts (no 'unknown'/'unstated' classes)\n",
    "print(scipy.stats.kendalltau(project_sizes, no_uu_n_conflicts))"
   ]
  },
  {
   "cell_type": "markdown",
   "metadata": {},
   "source": [
    "### Most common license mismatches"
   ]
  },
  {
   "cell_type": "code",
   "execution_count": 112,
   "metadata": {},
   "outputs": [],
   "source": [
    "def classify_mismatches(data, inconsistency_key):\n",
    "    to_return = {}\n",
    "\n",
    "    for i in range(len(data)):\n",
    "        mismatches = data[i][inconsistency_key]\n",
    "        #print(mismatches)\n",
    "\n",
    "        for inconsistency, occurrence in mismatches.items():\n",
    "        #     if inconsistency['_1'] == 'Public Domain' or inconsistency['_2'] == 'Public Domain':\n",
    "        #         continue\n",
    "            c1, c2 = inconsistency.split('_vs_')[0], inconsistency.split('_vs_')[1]\n",
    "\n",
    "            key1 = c1 + '_vs_' + c2\n",
    "            key2 = c2 + '_vs_' + c1\n",
    "\n",
    "            if key1 in to_return:\n",
    "                to_return[key1] += occurrence\n",
    "            elif key2 in to_return:\n",
    "                to_return[key2] += occurrence\n",
    "            else:\n",
    "                to_return[key1] = occurrence\n",
    "\n",
    "    return to_return"
   ]
  },
  {
   "cell_type": "code",
   "execution_count": 113,
   "metadata": {},
   "outputs": [],
   "source": [
    "def build_inconsistency_matrix(data, inconsistency_key, normalize=False):\n",
    "    to_return = { \n",
    "        'Permissive_Copyleft_Limited' : 0, \n",
    "        'Permissive_Copyleft' : 0,\n",
    "        'Permissive_Un': 0,\n",
    "        'Permissive_Miscellanea': 0,\n",
    "        'Copyleft_Limited_Copyleft': 0,\n",
    "        'Copyleft_Limited_Un': 0,\n",
    "        'Copyleft_Limited_Miscellanea': 0,\n",
    "        'Copyleft_Un': 0,\n",
    "        'Copyleft_Miscellanea': 0,\n",
    "        'Un_Miscellanea': 0,\n",
    "    }\n",
    "\n",
    "    un = set(['Unknown', 'Unstated License'])\n",
    "\n",
    "    tot_elem = 0\n",
    "\n",
    "    for i in range(len(data)):\n",
    "        mismatches = data[i][inconsistency_key]\n",
    "\n",
    "        for inconsistency in mismatches:\n",
    "            c1, c2 = inconsistency.split('_vs_')[0], inconsistency.split('_vs_')[1]\n",
    "\n",
    "            # skip public domain\n",
    "            if c1 == 'Public Domain' or c2 == 'Public Domain':\n",
    "                continue\n",
    "\n",
    "            tot_elem += 1\n",
    "\n",
    "            # assign the inconsistency to the proper category\n",
    "            is_permissive = c1 == 'Permissive' or c2 == 'Permissive'\n",
    "            is_weak_copyleft = c1 == 'Copyleft Limited' or c2 == 'Copyleft Limited'\n",
    "            is_strong_copyleft = c1 == 'Copyleft' or c2 == 'Copyleft'\n",
    "            is_un = c1 in un or c2 in un\n",
    "\n",
    "            if is_permissive:\n",
    "                if is_weak_copyleft:\n",
    "                    to_return['Permissive_Copyleft_Limited'] += 1\n",
    "                elif is_strong_copyleft:\n",
    "                    to_return['Permissive_Copyleft'] += 1\n",
    "                elif is_un:\n",
    "                    to_return['Permissive_Un'] += 1\n",
    "                else:\n",
    "                    to_return['Permissive_Miscellanea'] += 1\n",
    "            elif is_weak_copyleft:\n",
    "                if is_strong_copyleft:\n",
    "                    to_return['Copyleft_Limited_Copyleft'] += 1\n",
    "                elif is_un:\n",
    "                    to_return['Copyleft_Limited_Un'] += 1\n",
    "                else:\n",
    "                    to_return['Copyleft_Limited_Miscellanea'] += 1\n",
    "            elif is_strong_copyleft:\n",
    "                if is_un:\n",
    "                    to_return['Copyleft_Un'] += 1\n",
    "                else:\n",
    "                    to_return['Copyleft_Miscellanea'] += 1\n",
    "            elif is_un:\n",
    "                to_return['Un_Miscellanea'] += 1\n",
    "            else:\n",
    "                print('Error: inconsistency not assigned to any category: ' + c1 + '-' + c2)\n",
    "\n",
    "    if normalize:\n",
    "        for key in to_return:\n",
    "            to_return[key] = (to_return[key] / tot_elem) * 100 \n",
    "\n",
    "    return to_return"
   ]
  },
  {
   "cell_type": "code",
   "execution_count": 114,
   "metadata": {},
   "outputs": [],
   "source": [
    "declared_mismatches = classify_mismatches(data_json, 'between_declared_mismatches')\n",
    "incode_mismatches = classify_mismatches(data_json, 'between_incode_mismatches')\n",
    "declared_incode_mismatches = classify_mismatches(data_json, 'between_declared_incode_mismatches')"
   ]
  },
  {
   "cell_type": "code",
   "execution_count": 115,
   "metadata": {},
   "outputs": [
    {
     "name": "stdout",
     "output_type": "stream",
     "text": [
      "Error: inconsistency not assigned to any category: Source-available-CLA\n",
      "Error: inconsistency not assigned to any category: Source-available-Commercial\n",
      "Error: inconsistency not assigned to any category: Commercial-Proprietary Free\n"
     ]
    },
    {
     "data": {
      "text/plain": [
       "{'Permissive_Copyleft_Limited': 4.282115869017632,\n",
       " 'Permissive_Copyleft': 10.075566750629724,\n",
       " 'Permissive_Un': 38.287153652392945,\n",
       " 'Permissive_Miscellanea': 8.312342569269521,\n",
       " 'Copyleft_Limited_Copyleft': 2.770780856423174,\n",
       " 'Copyleft_Limited_Un': 5.037783375314862,\n",
       " 'Copyleft_Limited_Miscellanea': 1.2594458438287155,\n",
       " 'Copyleft_Un': 13.602015113350127,\n",
       " 'Copyleft_Miscellanea': 1.5113350125944585,\n",
       " 'Un_Miscellanea': 14.105793450881613}"
      ]
     },
     "execution_count": 115,
     "metadata": {},
     "output_type": "execute_result"
    }
   ],
   "source": [
    "declared_matrix = build_inconsistency_matrix(data_json, 'between_declared_mismatches', normalize=True)\n",
    "declared_matrix"
   ]
  },
  {
   "cell_type": "code",
   "execution_count": 47,
   "metadata": {},
   "outputs": [
    {
     "name": "stdout",
     "output_type": "stream",
     "text": [
      "Error: inconsistency not assigned to any category: Patent License-CLA\n",
      "Error: inconsistency not assigned to any category: Commercial-Source-available\n",
      "Error: inconsistency not assigned to any category: Commercial-CLA\n",
      "Error: inconsistency not assigned to any category: Source-available-CLA\n",
      "Error: inconsistency not assigned to any category: Source-available-Commercial\n",
      "Error: inconsistency not assigned to any category: Commercial-Free Restricted\n",
      "Error: inconsistency not assigned to any category: Commercial-CLA\n",
      "Error: inconsistency not assigned to any category: Commercial-Proprietary Free\n",
      "Error: inconsistency not assigned to any category: CLA-Proprietary Free\n",
      "Error: inconsistency not assigned to any category: Proprietary Free-Commercial\n",
      "Error: inconsistency not assigned to any category: CLA-Commercial\n",
      "Error: inconsistency not assigned to any category: Commercial-Source-available\n",
      "Error: inconsistency not assigned to any category: CLA-Commercial\n",
      "Error: inconsistency not assigned to any category: Commercial-CLA\n",
      "Error: inconsistency not assigned to any category: Commercial-Proprietary Free\n",
      "Error: inconsistency not assigned to any category: CLA-Proprietary Free\n",
      "Error: inconsistency not assigned to any category: Commercial-Source-available\n",
      "Error: inconsistency not assigned to any category: CLA-Commercial\n",
      "Error: inconsistency not assigned to any category: CLA-Proprietary Free\n",
      "Error: inconsistency not assigned to any category: Commercial-Proprietary Free\n",
      "Error: inconsistency not assigned to any category: CLA-Commercial\n",
      "Error: inconsistency not assigned to any category: CLA-Proprietary Free\n",
      "Error: inconsistency not assigned to any category: Commercial-Proprietary Free\n",
      "Error: inconsistency not assigned to any category: Source-available-Commercial\n",
      "Error: inconsistency not assigned to any category: Patent License-CLA\n",
      "Error: inconsistency not assigned to any category: Free Restricted-Commercial\n",
      "Error: inconsistency not assigned to any category: Commercial-CLA\n",
      "Error: inconsistency not assigned to any category: Commercial-Patent License\n",
      "Error: inconsistency not assigned to any category: Commercial-CLA\n",
      "Error: inconsistency not assigned to any category: Commercial-Proprietary Free\n",
      "Error: inconsistency not assigned to any category: CLA-Proprietary Free\n",
      "Error: inconsistency not assigned to any category: Source-available-CLA\n",
      "Error: inconsistency not assigned to any category: Commercial-CLA\n",
      "Error: inconsistency not assigned to any category: CLA-Source-available\n",
      "Error: inconsistency not assigned to any category: CLA-Proprietary Free\n",
      "Error: inconsistency not assigned to any category: Source-available-Proprietary Free\n",
      "Error: inconsistency not assigned to any category: CLA-Proprietary Free\n",
      "Error: inconsistency not assigned to any category: Commercial-CLA\n",
      "Error: inconsistency not assigned to any category: Patent License-CLA\n",
      "Error: inconsistency not assigned to any category: Patent License-Source-available\n",
      "Error: inconsistency not assigned to any category: Patent License-Commercial\n",
      "Error: inconsistency not assigned to any category: CLA-Source-available\n",
      "Error: inconsistency not assigned to any category: CLA-Commercial\n",
      "Error: inconsistency not assigned to any category: Source-available-Commercial\n",
      "Error: inconsistency not assigned to any category: Proprietary Free-Free Restricted\n",
      "Error: inconsistency not assigned to any category: Commercial-Source-available\n",
      "Error: inconsistency not assigned to any category: Commercial-Patent License\n",
      "Error: inconsistency not assigned to any category: Commercial-Source-available\n",
      "Error: inconsistency not assigned to any category: Patent License-Source-available\n",
      "Error: inconsistency not assigned to any category: CLA-Commercial\n",
      "Error: inconsistency not assigned to any category: CLA-Proprietary Free\n",
      "Error: inconsistency not assigned to any category: Commercial-Proprietary Free\n",
      "Error: inconsistency not assigned to any category: Commercial-Proprietary Free\n",
      "Error: inconsistency not assigned to any category: Commercial-CLA\n",
      "Error: inconsistency not assigned to any category: Commercial-CLA\n",
      "Error: inconsistency not assigned to any category: Commercial-Patent License\n",
      "Error: inconsistency not assigned to any category: CLA-Patent License\n",
      "Error: inconsistency not assigned to any category: Source-available-CLA\n",
      "Error: inconsistency not assigned to any category: CLA-Source-available\n",
      "Error: inconsistency not assigned to any category: CLA-Commercial\n",
      "Error: inconsistency not assigned to any category: Source-available-Commercial\n",
      "Error: inconsistency not assigned to any category: CLA-Commercial\n",
      "Error: inconsistency not assigned to any category: CLA-Commercial\n",
      "Error: inconsistency not assigned to any category: Commercial-Source-available\n",
      "Error: inconsistency not assigned to any category: CLA-Commercial\n",
      "Error: inconsistency not assigned to any category: Commercial-CLA\n",
      "Error: inconsistency not assigned to any category: Commercial-Source-available\n",
      "Error: inconsistency not assigned to any category: Source-available-Commercial\n",
      "Error: inconsistency not assigned to any category: Commercial-CLA\n",
      "Error: inconsistency not assigned to any category: CLA-Source-available\n",
      "Error: inconsistency not assigned to any category: Commercial-Proprietary Free\n",
      "Error: inconsistency not assigned to any category: Commercial-Source-available\n",
      "Error: inconsistency not assigned to any category: Proprietary Free-Source-available\n",
      "Error: inconsistency not assigned to any category: Source-available-CLA\n",
      "Error: inconsistency not assigned to any category: Commercial-CLA\n",
      "Error: inconsistency not assigned to any category: Proprietary Free-CLA\n"
     ]
    },
    {
     "data": {
      "text/plain": [
       "{'Permissive_Copyleft_Limited': 6.640454346876365,\n",
       " 'Permissive_Copyleft': 6.684141546526867,\n",
       " 'Permissive_Un': 22.411533420707734,\n",
       " 'Permissive_Miscellanea': 9.523809523809524,\n",
       " 'Copyleft_Limited_Copyleft': 3.800786369593709,\n",
       " 'Copyleft_Limited_Un': 9.436435124508519,\n",
       " 'Copyleft_Limited_Miscellanea': 4.8055919615552645,\n",
       " 'Copyleft_Un': 9.349060725207515,\n",
       " 'Copyleft_Miscellanea': 4.412407164700743,\n",
       " 'Un_Miscellanea': 19.615552643075578}"
      ]
     },
     "execution_count": 47,
     "metadata": {},
     "output_type": "execute_result"
    }
   ],
   "source": [
    "incode_matrix = build_inconsistency_matrix(data_json, 'between_incode_mismatches', normalize=True)\n",
    "incode_matrix"
   ]
  },
  {
   "cell_type": "code",
   "execution_count": 116,
   "metadata": {},
   "outputs": [
    {
     "name": "stdout",
     "output_type": "stream",
     "text": [
      "Error: inconsistency not assigned to any category: CLA-Patent License\n",
      "Error: inconsistency not assigned to any category: Source-available-Commercial\n",
      "Error: inconsistency not assigned to any category: Source-available-CLA\n",
      "Error: inconsistency not assigned to any category: Source-available-Commercial\n",
      "Error: inconsistency not assigned to any category: Source-available-Free Restricted\n",
      "Error: inconsistency not assigned to any category: Proprietary Free-Commercial\n",
      "Error: inconsistency not assigned to any category: Proprietary Free-CLA\n",
      "Error: inconsistency not assigned to any category: CLA-Source-available\n",
      "Error: inconsistency not assigned to any category: CLA-Commercial\n",
      "Error: inconsistency not assigned to any category: Proprietary Free-CLA\n",
      "Error: inconsistency not assigned to any category: Proprietary Free-Commercial\n",
      "Error: inconsistency not assigned to any category: CLA-Source-available\n",
      "Error: inconsistency not assigned to any category: CLA-Patent License\n",
      "Error: inconsistency not assigned to any category: Source-available-Free Restricted\n",
      "Error: inconsistency not assigned to any category: Source-available-Commercial\n",
      "Error: inconsistency not assigned to any category: CLA-Commercial\n",
      "Error: inconsistency not assigned to any category: Patent License-Commercial\n",
      "Error: inconsistency not assigned to any category: Source-available-CLA\n",
      "Error: inconsistency not assigned to any category: CLA-Source-available\n",
      "Error: inconsistency not assigned to any category: CLA-Proprietary Free\n",
      "Error: inconsistency not assigned to any category: Source-available-CLA\n",
      "Error: inconsistency not assigned to any category: Source-available-CLA\n",
      "Error: inconsistency not assigned to any category: Source-available-Commercial\n",
      "Error: inconsistency not assigned to any category: Proprietary Free-Commercial\n",
      "Error: inconsistency not assigned to any category: Proprietary Free-CLA\n",
      "Error: inconsistency not assigned to any category: Proprietary Free-Commercial\n"
     ]
    },
    {
     "data": {
      "text/plain": [
       "{'Permissive_Copyleft_Limited': 7.823529411764706,\n",
       " 'Permissive_Copyleft': 8.117647058823529,\n",
       " 'Permissive_Un': 27.764705882352942,\n",
       " 'Permissive_Miscellanea': 12.294117647058824,\n",
       " 'Copyleft_Limited_Copyleft': 3.176470588235294,\n",
       " 'Copyleft_Limited_Un': 7.764705882352942,\n",
       " 'Copyleft_Limited_Miscellanea': 2.2941176470588234,\n",
       " 'Copyleft_Un': 9.529411764705882,\n",
       " 'Copyleft_Miscellanea': 3.4705882352941178,\n",
       " 'Un_Miscellanea': 16.235294117647058}"
      ]
     },
     "execution_count": 116,
     "metadata": {},
     "output_type": "execute_result"
    }
   ],
   "source": [
    "declared__incode_matrix = build_inconsistency_matrix(data_json, 'between_declared_incode_mismatches', normalize=True)\n",
    "declared__incode_matrix"
   ]
  },
  {
   "cell_type": "code",
   "execution_count": 117,
   "metadata": {},
   "outputs": [
    {
     "data": {
      "text/plain": [
       "{'Permissive_vs_Unknown': 877,\n",
       " 'Copyleft_vs_Permissive': 155,\n",
       " 'Permissive_vs_Copyleft Limited': 141,\n",
       " 'Unknown_vs_Copyleft': 113,\n",
       " 'Public Domain_vs_Permissive': 108,\n",
       " 'Unknown_vs_Copyleft Limited': 103,\n",
       " 'Permissive_vs_Unstated License': 73,\n",
       " 'Permissive_vs_CLA': 63,\n",
       " 'Unknown_vs_Public Domain': 63,\n",
       " 'Unknown_vs_CLA': 58,\n",
       " 'Unknown_vs_Unstated License': 52,\n",
       " 'Copyleft_vs_Unstated License': 27,\n",
       " 'Copyleft_vs_Copyleft Limited': 20,\n",
       " 'Source-available_vs_Permissive': 19,\n",
       " 'Unknown_vs_Source-available': 14,\n",
       " 'Proprietary Free_vs_Permissive': 9,\n",
       " 'Copyleft Limited_vs_Public Domain': 9,\n",
       " 'CLA_vs_Unstated License': 8,\n",
       " 'Patent License_vs_Permissive': 8,\n",
       " 'Permissive_vs_Commercial': 7,\n",
       " 'Unknown_vs_Commercial': 7,\n",
       " 'Unknown_vs_Free Restricted': 6,\n",
       " 'Copyleft Limited_vs_CLA': 6,\n",
       " 'Patent License_vs_Unknown': 6,\n",
       " 'Copyleft_vs_Public Domain': 5,\n",
       " 'Copyleft_vs_CLA': 4,\n",
       " 'Free Restricted_vs_Permissive': 3,\n",
       " 'Copyleft Limited_vs_Commercial': 3,\n",
       " 'Free Restricted_vs_Public Domain': 2,\n",
       " 'Public Domain_vs_Source-available': 2,\n",
       " 'Public Domain_vs_CLA': 2,\n",
       " 'Public Domain_vs_Unstated License': 2,\n",
       " 'Unstated License_vs_Copyleft Limited': 2,\n",
       " 'Copyleft Limited_vs_Proprietary Free': 2,\n",
       " 'Source-available_vs_Copyleft': 1,\n",
       " 'Patent License_vs_Public Domain': 1,\n",
       " 'Copyleft_vs_Commercial': 1,\n",
       " 'Source-available_vs_CLA': 1,\n",
       " 'Source-available_vs_Unstated License': 1,\n",
       " 'Source-available_vs_Commercial': 1,\n",
       " 'Unknown_vs_Proprietary Free': 1,\n",
       " 'Unstated License_vs_Commercial': 1,\n",
       " 'Unstated License_vs_Proprietary Free': 1,\n",
       " 'Commercial_vs_Proprietary Free': 1}"
      ]
     },
     "execution_count": 117,
     "metadata": {},
     "output_type": "execute_result"
    }
   ],
   "source": [
    "declared_mismatches_sorted = {k: v for k, v in sorted(declared_mismatches.items(), key=lambda item: item[1], reverse=True)}\n",
    "declared_mismatches_sorted"
   ]
  },
  {
   "cell_type": "code",
   "execution_count": 50,
   "metadata": {},
   "outputs": [
    {
     "data": {
      "text/plain": [
       "1989"
      ]
     },
     "execution_count": 50,
     "metadata": {},
     "output_type": "execute_result"
    }
   ],
   "source": [
    "sum(declared_mismatches.values())"
   ]
  },
  {
   "cell_type": "code",
   "execution_count": 118,
   "metadata": {},
   "outputs": [
    {
     "data": {
      "text/plain": [
       "{'Permissive_vs_Unknown': 7011,\n",
       " 'Permissive_vs_CLA': 315,\n",
       " 'Permissive_vs_Unstated License': 931,\n",
       " 'Unknown_vs_CLA': 248,\n",
       " 'Unknown_vs_Unstated License': 1131,\n",
       " 'CLA_vs_Unstated License': 48,\n",
       " 'Copyleft_vs_Permissive': 1541,\n",
       " 'Unknown_vs_Source-available': 93,\n",
       " 'Unknown_vs_Copyleft': 7505,\n",
       " 'Source-available_vs_Copyleft': 15,\n",
       " 'Source-available_vs_Permissive': 107,\n",
       " 'Permissive_vs_Commercial': 185,\n",
       " 'Public Domain_vs_Permissive': 108,\n",
       " 'Unknown_vs_Free Restricted': 20,\n",
       " 'Unknown_vs_Public Domain': 654,\n",
       " 'Free Restricted_vs_Public Domain': 6,\n",
       " 'Free Restricted_vs_Permissive': 21,\n",
       " 'Public Domain_vs_Source-available': 2,\n",
       " 'Copyleft_vs_CLA': 35,\n",
       " 'Copyleft_vs_Unstated License': 249,\n",
       " 'Proprietary Free_vs_Permissive': 47,\n",
       " 'Permissive_vs_Copyleft Limited': 1090,\n",
       " 'Unknown_vs_Copyleft Limited': 1019,\n",
       " 'Copyleft Limited_vs_Public Domain': 551,\n",
       " 'Copyleft Limited_vs_CLA': 89,\n",
       " 'Public Domain_vs_CLA': 64,\n",
       " 'Patent License_vs_Permissive': 8,\n",
       " 'Patent License_vs_Unknown': 6,\n",
       " 'Patent License_vs_Public Domain': 1,\n",
       " 'Copyleft_vs_Copyleft Limited': 323,\n",
       " 'Copyleft_vs_Public Domain': 196,\n",
       " 'Copyleft_vs_Commercial': 42,\n",
       " 'Unknown_vs_Commercial': 104,\n",
       " 'Copyleft Limited_vs_Commercial': 21,\n",
       " 'Public Domain_vs_Unstated License': 83,\n",
       " 'Source-available_vs_CLA': 8,\n",
       " 'Source-available_vs_Unstated License': 9,\n",
       " 'Source-available_vs_Commercial': 5,\n",
       " 'Unknown_vs_Proprietary Free': 722,\n",
       " 'Unstated License_vs_Copyleft Limited': 136,\n",
       " 'Unstated License_vs_Commercial': 15,\n",
       " 'Unstated License_vs_Proprietary Free': 52,\n",
       " 'Copyleft Limited_vs_Proprietary Free': 2,\n",
       " 'Commercial_vs_Proprietary Free': 10,\n",
       " 'Copyleft Limited_vs_Unstated License': 585,\n",
       " 'Permissive_vs_Patent License': 102,\n",
       " 'Unstated License_vs_Unknown': 4942,\n",
       " 'Unstated License_vs_Patent License': 5,\n",
       " 'Unstated License_vs_CLA': 95,\n",
       " 'Unknown_vs_Patent License': 70,\n",
       " 'Patent License_vs_Copyleft Limited': 10,\n",
       " 'Patent License_vs_CLA': 9,\n",
       " 'Permissive_vs_Copyleft': 3364,\n",
       " 'Permissive_vs_Source-available': 241,\n",
       " 'Permissive_vs_Public Domain': 843,\n",
       " 'Commercial_vs_Unstated License': 118,\n",
       " 'Commercial_vs_Source-available': 16,\n",
       " 'Commercial_vs_Copyleft Limited': 154,\n",
       " 'Commercial_vs_Copyleft': 141,\n",
       " 'Commercial_vs_Public Domain': 97,\n",
       " 'Commercial_vs_CLA': 25,\n",
       " 'Unstated License_vs_Source-available': 48,\n",
       " 'Unstated License_vs_Copyleft': 599,\n",
       " 'Unstated License_vs_Public Domain': 409,\n",
       " 'Source-available_vs_Copyleft Limited': 20,\n",
       " 'Source-available_vs_Public Domain': 9,\n",
       " 'Permissive_vs_Proprietary Free': 242,\n",
       " 'Copyleft_vs_Proprietary Free': 59,\n",
       " 'Public Domain_vs_Proprietary Free': 32,\n",
       " 'Permissive_vs_Free Restricted': 21,\n",
       " 'Public Domain_vs_Free Restricted': 4,\n",
       " 'Commercial_vs_Free Restricted': 2,\n",
       " 'Copyleft Limited_vs_Free Restricted': 5,\n",
       " 'CLA_vs_Proprietary Free': 9,\n",
       " 'Proprietary Free_vs_Copyleft Limited': 1,\n",
       " 'Copyleft_vs_Patent License': 28,\n",
       " 'Public Domain_vs_Patent License': 9,\n",
       " 'Commercial_vs_Patent License': 5,\n",
       " 'Source-available_vs_Proprietary Free': 2,\n",
       " 'Patent License_vs_Source-available': 3,\n",
       " 'Proprietary Free_vs_Free Restricted': 1,\n",
       " 'Free Restricted_vs_Copyleft': 8,\n",
       " 'Free Restricted_vs_Unstated License': 4,\n",
       " 'CLA_vs_Patent License': 4,\n",
       " 'CLA_vs_Copyleft Limited': 39,\n",
       " 'Copyleft_vs_Unknown': 2517,\n",
       " 'Proprietary Free_vs_Unstated License': 16,\n",
       " 'Proprietary Free_vs_Unknown': 47,\n",
       " 'Proprietary Free_vs_Copyleft': 19,\n",
       " 'Proprietary Free_vs_Public Domain': 4,\n",
       " 'Free Restricted_vs_Copyleft Limited': 8,\n",
       " 'Free Restricted_vs_Unknown': 12,\n",
       " 'Public Domain_vs_Copyleft Limited': 98,\n",
       " 'Public Domain_vs_Commercial': 16,\n",
       " 'Source-available_vs_Free Restricted': 2,\n",
       " 'CLA_vs_Public Domain': 18,\n",
       " 'Proprietary Free_vs_Commercial': 4,\n",
       " 'Proprietary Free_vs_CLA': 4,\n",
       " 'CLA_vs_Commercial': 2,\n",
       " 'Patent License_vs_Copyleft': 8,\n",
       " 'Patent License_vs_Commercial': 1}"
      ]
     },
     "execution_count": 118,
     "metadata": {},
     "output_type": "execute_result"
    }
   ],
   "source": [
    "# merge the three dictionaries\n",
    "all_mismatches = declared_mismatches.copy()\n",
    "all_mismatches.update(incode_mismatches)\n",
    "all_mismatches.update(declared_incode_mismatches)\n",
    "\n",
    "all_mismatches"
   ]
  },
  {
   "cell_type": "markdown",
   "metadata": {},
   "source": [
    "### Most common license conflicts"
   ]
  },
  {
   "cell_type": "code",
   "execution_count": 119,
   "metadata": {},
   "outputs": [],
   "source": [
    "def classify_conflicts(data, conflict_key):\n",
    "    to_return = {}\n",
    "\n",
    "    for i in range(len(data)):\n",
    "        conflicts = data[i][conflict_key]\n",
    "\n",
    "        for conflict, occurrence in conflicts.items():\n",
    "            # check if conflict['_1'] and conflict['_2'] are empty\n",
    "            # if not conflict['_1'] or not conflict['_2']:\n",
    "            #     continue\n",
    "\n",
    "            c1, c2 = conflict.split('_vs_')[0], conflict.split('_vs_')[1]\n",
    "\n",
    "            key1 = c1 + '_vs_' + c2\n",
    "            key2 = c2 + '_vs_' + c1\n",
    "\n",
    "            if key1 in to_return:\n",
    "                to_return[key1] += occurrence\n",
    "            elif key2 in to_return:\n",
    "                to_return[key2] += occurrence\n",
    "            else:\n",
    "                to_return[key1] = occurrence\n",
    "    return to_return"
   ]
  },
  {
   "cell_type": "code",
   "execution_count": 120,
   "metadata": {},
   "outputs": [],
   "source": [
    "declared_conflicts = classify_conflicts(data_json, 'between_declared_conflicts')\n",
    "incode_conflicts = classify_conflicts(data_json, 'between_incode_conflicts')\n",
    "declared_incode_conflicts = classify_conflicts(data_json, 'between_declared_incode_conflicts')\n",
    "\n",
    "possible_declared_conflicts = classify_conflicts(data_json, 'possible_between_declared_conflicts')\n",
    "possible_incode_conflicts = classify_conflicts(data_json, 'possible_between_incode_conflicts')\n",
    "possible_declared_incode_conflicts = classify_conflicts(data_json, 'possible_between_declared_incode_conflicts')"
   ]
  },
  {
   "cell_type": "code",
   "execution_count": 50,
   "metadata": {},
   "outputs": [],
   "source": [
    "declared_conflicts;"
   ]
  },
  {
   "cell_type": "code",
   "execution_count": 121,
   "metadata": {},
   "outputs": [],
   "source": [
    "# sum values of declared_conflicts\n",
    "declared_conflicts_sum = 0\n",
    "for key in declared_conflicts:\n",
    "    declared_conflicts_sum += declared_conflicts[key]\n",
    "\n",
    "# sum values of possible_declared_conflicts\n",
    "possible_declared_conflicts_sum = 0\n",
    "for key in possible_declared_conflicts:\n",
    "    possible_declared_conflicts_sum += possible_declared_conflicts[key]\n",
    "\n",
    "# sum values of incode_conflicts\n",
    "incode_conflicts_sum = 0\n",
    "for key in incode_conflicts:\n",
    "    incode_conflicts_sum += incode_conflicts[key]\n",
    "\n",
    "# sum values of possible_incode_conflicts\n",
    "possible_incode_conflicts_sum = 0\n",
    "for key in possible_incode_conflicts:\n",
    "    possible_incode_conflicts_sum += possible_incode_conflicts[key]\n",
    "\n",
    "# sum values of declared_incode_conflicts\n",
    "declared_incode_conflicts_sum = 0\n",
    "for key in declared_incode_conflicts:\n",
    "    declared_incode_conflicts_sum += declared_incode_conflicts[key]\n",
    "\n",
    "# sum values of possible_declared_incode_conflicts\n",
    "possible_declared_incode_conflicts_sum = 0\n",
    "for key in possible_declared_incode_conflicts:\n",
    "    possible_declared_incode_conflicts_sum += possible_declared_incode_conflicts[key]"
   ]
  },
  {
   "cell_type": "code",
   "execution_count": 122,
   "metadata": {},
   "outputs": [
    {
     "data": {
      "text/plain": [
       "(1811, 64147, 17595)"
      ]
     },
     "execution_count": 122,
     "metadata": {},
     "output_type": "execute_result"
    }
   ],
   "source": [
    "declared_conflicts_sum, incode_conflicts_sum, declared_incode_conflicts_sum"
   ]
  },
  {
   "cell_type": "code",
   "execution_count": 123,
   "metadata": {},
   "outputs": [
    {
     "data": {
      "text/plain": [
       "(554, 54357, 6521)"
      ]
     },
     "execution_count": 123,
     "metadata": {},
     "output_type": "execute_result"
    }
   ],
   "source": [
    "possible_declared_conflicts_sum, possible_incode_conflicts_sum, possible_declared_incode_conflicts_sum"
   ]
  },
  {
   "cell_type": "code",
   "execution_count": 128,
   "metadata": {},
   "outputs": [],
   "source": [
    "declared_conflicts_sorted = {k: v for k, v in sorted(declared_conflicts.items(), key=lambda item: item[1], reverse=True)}\n",
    "declared_conflicts_sorted;"
   ]
  },
  {
   "cell_type": "code",
   "execution_count": 130,
   "metadata": {},
   "outputs": [],
   "source": [
    "incode_conflicts_sorted = {k: v for k, v in sorted(incode_conflicts.items(), key=lambda item: item[1], reverse=True)}\n",
    "incode_conflicts_sorted;"
   ]
  },
  {
   "cell_type": "code",
   "execution_count": 129,
   "metadata": {},
   "outputs": [],
   "source": [
    "declared_incode_conflicts_sorted = {k: v for k, v in sorted(declared_incode_conflicts.items(), key=lambda item: item[1], reverse=True)}\n",
    "declared_incode_conflicts_sorted;"
   ]
  },
  {
   "cell_type": "code",
   "execution_count": 133,
   "metadata": {},
   "outputs": [],
   "source": [
    "# merge the three dictionaries\n",
    "all_conflicts = declared_conflicts.copy()\n",
    "# all_conflicts.update(incode_conflicts)\n",
    "# all_conflicts.update(declared_incode_conflicts)\n",
    "for k in incode_conflicts.keys():\n",
    "    all_conflicts[k] = all_conflicts.get(k, 0) + incode_conflicts[k]\n",
    "for k in declared_incode_conflicts.keys():\n",
    "    all_conflicts[k] = all_conflicts.get(k, 0) + declared_incode_conflicts[k]\n",
    "\n",
    "# sort the dictionary by value\n",
    "all_conflicts = {k: v for k, v in sorted(all_conflicts.items(), key=lambda item: item[1], reverse=True)}\n",
    "all_conflicts;"
   ]
  },
  {
   "cell_type": "code",
   "execution_count": 131,
   "metadata": {},
   "outputs": [],
   "source": [
    "# some keys of the dict are repeated, so we need to merge them\n",
    "all_conflicts_merged = {}\n",
    "\n",
    "for key in all_conflicts:\n",
    "    c1, c2 = key.split('_vs_')[0], key.split('_vs_')[1]\n",
    "\n",
    "    key1 = c1 + '_vs_' + c2\n",
    "    key2 = c2 + '_vs_' + c1\n",
    "\n",
    "    if key1 in all_conflicts_merged:\n",
    "        all_conflicts_merged[key1] += all_conflicts[key]\n",
    "    elif key2 in all_conflicts_merged:\n",
    "        all_conflicts_merged[key2] += all_conflicts[key]\n",
    "    else:\n",
    "        all_conflicts_merged[key1] = all_conflicts[key]"
   ]
  },
  {
   "cell_type": "code",
   "execution_count": 132,
   "metadata": {},
   "outputs": [
    {
     "data": {
      "text/plain": [
       "{'mit_vs_unknown-license-reference': 178,\n",
       " 'apache-2.0_vs_unknown-license-reference': 163,\n",
       " 'mit_vs_public-domain': 144,\n",
       " 'generic-cla_vs_apache-2.0': 140,\n",
       " 'gpl-2.0_vs_mit': 122,\n",
       " 'gpl-3.0_vs_mit': 118,\n",
       " 'free-unknown_vs_mit': 110,\n",
       " 'apache-2.0_vs_public-domain': 107,\n",
       " 'mit_vs_warranty-disclaimer': 99,\n",
       " 'mit_vs_gpl-1.0-plus': 98,\n",
       " 'gpl-3.0_vs_apache-2.0': 94,\n",
       " 'mit_vs_proprietary-license': 93,\n",
       " 'gpl-2.0_vs_apache-2.0': 91,\n",
       " 'mit_vs_gpl-2.0-plus': 89,\n",
       " 'apache-2.0_vs_proprietary-license': 88,\n",
       " 'generic-cla_vs_mit': 88,\n",
       " 'apache-2.0_vs_free-unknown': 81,\n",
       " 'mit_vs_cc-by-4.0': 79,\n",
       " 'ofl-1.1_vs_mit': 78,\n",
       " 'apache-2.0_vs_gpl-1.0-plus': 77,\n",
       " 'apache-2.0_vs_ofl-1.1': 76,\n",
       " 'bsd-3-clause_vs_public-domain': 76,\n",
       " 'gpl-2.0-plus_vs_gpl-2.0': 76,\n",
       " 'gpl-2.0_vs_gpl-1.0-plus': 74,\n",
       " 'apache-2.0_vs_warranty-disclaimer': 74,\n",
       " 'cc-by-4.0_vs_apache-2.0': 71,\n",
       " 'mit_vs_lgpl-2.1-plus': 70,\n",
       " 'bsd-3-clause_vs_unknown-license-reference': 69,\n",
       " 'apache-2.0_vs_gpl-2.0-plus': 67,\n",
       " 'apache-2.0_vs_lgpl-2.1-plus': 65,\n",
       " 'mit_vs_boost-1.0': 64,\n",
       " 'gpl-2.0_vs_free-unknown': 62,\n",
       " 'gpl-2.0_vs_public-domain': 62,\n",
       " 'unknown-license-reference_vs_bsd-new': 59,\n",
       " 'gpl-2.0_vs_unknown-license-reference': 59,\n",
       " 'gpl-2.0_vs_gpl-3.0': 58,\n",
       " 'gpl-2.0_vs_bsd-new': 57,\n",
       " 'gpl-3.0-plus_vs_mit': 56,\n",
       " 'bsd-new_vs_public-domain': 56,\n",
       " 'unknown-license-reference_vs_isc': 56,\n",
       " 'gpl-2.0_vs_lgpl-2.1-plus': 54,\n",
       " 'apache-2.0_vs_boost-1.0': 54,\n",
       " 'lgpl-2.1_vs_mit': 54,\n",
       " 'gpl-3.0_vs_gpl-3.0-plus': 54,\n",
       " 'gpl-3.0-plus_vs_apache-2.0': 53,\n",
       " 'lgpl-2.1_vs_apache-2.0': 52,\n",
       " 'public-domain_vs_unknown-license-reference': 52,\n",
       " 'public-domain_vs_isc': 52,\n",
       " 'gpl-2.0-plus_vs_gpl-1.0-plus': 52,\n",
       " 'gpl-2.0_vs_isc': 51,\n",
       " 'gpl-3.0_vs_bsd-new': 50,\n",
       " 'free-unknown_vs_gpl-1.0-plus': 50,\n",
       " 'free-unknown_vs_unknown-license-reference': 50,\n",
       " 'public-domain_vs_gpl-1.0-plus': 49,\n",
       " 'public-domain_vs_bsd-simplified': 48,\n",
       " 'gpl-3.0_vs_gpl-2.0-plus': 48,\n",
       " 'bsd-3-clause_vs_free-unknown': 48,\n",
       " 'zlib_vs_gpl-2.0': 48,\n",
       " 'bsd-simplified_vs_unknown-license-reference': 48,\n",
       " 'free-unknown_vs_isc': 48,\n",
       " 'mit_vs_lgpl-2.0-plus': 47,\n",
       " 'bsd-3-clause_vs_warranty-disclaimer': 46,\n",
       " 'public-domain_vs_free-unknown': 46,\n",
       " 'zlib_vs_unknown-license-reference': 46,\n",
       " 'proprietary-license_vs_unknown-license-reference': 46,\n",
       " 'bsd-3-clause_vs_proprietary-license': 45,\n",
       " 'bsd-3-clause_vs_gpl-2.0': 45,\n",
       " 'unknown-license-reference_vs_gpl-1.0-plus': 45,\n",
       " 'public-domain_vs_zlib': 44,\n",
       " 'gpl-3.0-plus_vs_gpl-2.0': 44,\n",
       " 'mit_vs_mpl-2.0': 43,\n",
       " 'gpl-2.0-plus_vs_public-domain': 42,\n",
       " 'gpl-3.0_vs_gpl-1.0-plus': 42,\n",
       " 'gpl-3.0_vs_unknown-license-reference': 41,\n",
       " 'lgpl-2.1-plus_vs_isc': 41,\n",
       " 'bsd-new_vs_gpl-1.0-plus': 41,\n",
       " 'apache-2.0 AND unknown-license-reference_vs_apache-2.0': 41,\n",
       " 'gpl-2.0_vs_bsd-simplified': 40,\n",
       " 'gpl-2.0-plus_vs_isc': 40,\n",
       " 'gpl-2.0-plus_vs_lgpl-2.1-plus': 40,\n",
       " 'lgpl-2.1_vs_gpl-2.0': 40,\n",
       " 'lgpl-2.1-plus_vs_gpl-1.0-plus': 40,\n",
       " 'isc_vs_gpl-1.0-plus': 40,\n",
       " 'mit AND unknown-license-reference_vs_mit': 40,\n",
       " 'gpl-2.0-plus_vs_free-unknown': 40,\n",
       " 'mit_vs_json': 39,\n",
       " 'mit_vs_fsf-ap': 39,\n",
       " 'mit_vs_agpl-3.0': 39,\n",
       " 'mit_vs_cc-by-sa-4.0': 39,\n",
       " 'generic-cla_vs_unknown-license-reference': 39,\n",
       " 'free-unknown_vs_lgpl-2.1-plus': 38,\n",
       " 'bsd-3-clause_vs_lgpl-2.1-plus': 38,\n",
       " 'bsd-3-clause_vs_boost-1.0': 38,\n",
       " 'apache-2.0_vs_mpl-2.0': 38,\n",
       " 'gpl-2.0-plus_vs_unknown-license-reference': 38,\n",
       " 'unknown-license-reference_vs_warranty-disclaimer': 37,\n",
       " 'gpl-2.0-plus_vs_bsd-new': 37,\n",
       " 'gpl-2.0_vs_warranty-disclaimer': 37,\n",
       " 'lgpl-2.1-plus_vs_public-domain': 37,\n",
       " 'public-domain_vs_gpl-3.0': 37,\n",
       " 'cc-by-sa-3.0_vs_mit': 37,\n",
       " 'bsd-3-clause_vs_gpl-1.0-plus': 36,\n",
       " 'mit_vs_bsd-new AND unknown-license-reference': 36,\n",
       " 'mit_vs_other-permissive': 36,\n",
       " 'proprietary-license_vs_isc': 36,\n",
       " 'wtfpl-2.0_vs_mit': 36,\n",
       " 'bsd-2-clause_vs_unknown-license-reference': 35,\n",
       " 'free-unknown_vs_bsd-new': 35,\n",
       " 'zlib_vs_gpl-1.0-plus': 35,\n",
       " 'bsd-2-clause_vs_public-domain': 35,\n",
       " 'proprietary-license_vs_gpl-2.0': 35,\n",
       " 'zlib_vs_warranty-disclaimer': 34,\n",
       " 'gpl-3.0_vs_lgpl-2.1-plus': 34,\n",
       " 'cc0-1.0_vs_public-domain': 34,\n",
       " 'gpl-3.0_vs_free-unknown': 34,\n",
       " 'bsd-3-clause_vs_gpl-2.0-plus': 33,\n",
       " 'bsd-3-clause_vs_cc-by-4.0': 33,\n",
       " 'proprietary-license_vs_warranty-disclaimer': 33,\n",
       " 'mit_vs_unicode': 33,\n",
       " 'proprietary-license_vs_public-domain': 33,\n",
       " 'warranty-disclaimer_vs_gpl-1.0-plus': 33,\n",
       " 'proprietary-license_vs_gpl-1.0-plus': 33,\n",
       " 'lgpl-2.1-plus_vs_zlib': 33,\n",
       " 'mit_vs_gpl-2.0-plus WITH autoconf-simple-exception-2.0': 33,\n",
       " 'unknown-license-reference_vs_lgpl-2.1-plus': 32,\n",
       " 'lgpl-2.1_vs_gpl-1.0-plus': 32,\n",
       " 'zlib_vs_proprietary-license': 32,\n",
       " 'gpl-2.0-plus_vs_bsd-simplified': 32,\n",
       " 'warranty-disclaimer_vs_isc': 32,\n",
       " 'free-unknown_vs_zlib': 32,\n",
       " 'public-domain_vs_boost-1.0': 31,\n",
       " 'boost-1.0_vs_zlib': 31,\n",
       " 'gpl-3.0_vs_proprietary-license': 31,\n",
       " 'cc0-1.0_vs_unknown-license-reference': 31,\n",
       " 'gpl-3.0_vs_isc': 31,\n",
       " 'mit_vs_fsf-free': 31,\n",
       " 'apache-2.0_vs_lgpl-2.0-plus': 31,\n",
       " 'cc-by-4.0_vs_isc': 31,\n",
       " 'lgpl-2.1-plus_vs_bsd-new': 31,\n",
       " 'gpl-3.0-plus_vs_gpl-2.0-plus': 31,\n",
       " 'bsd-simplified_vs_gpl-1.0-plus': 31,\n",
       " 'gpl-3.0-plus_vs_gpl-1.0-plus': 31,\n",
       " 'unknown-license-reference_vs_cc-by-4.0': 31,\n",
       " 'lgpl-3.0_vs_mit': 31,\n",
       " 'dco-1.1_vs_mit': 31,\n",
       " 'bsd-2-clause_vs_proprietary-license': 30,\n",
       " 'warranty-disclaimer_vs_gpl-3.0': 30,\n",
       " 'bsd-3-clause_vs_generic-cla': 29,\n",
       " 'proprietary-license_vs_bsd-new': 29,\n",
       " 'cc0-1.0_vs_free-unknown': 29,\n",
       " 'bsd-2-clause_vs_free-unknown': 29,\n",
       " 'bsd-2-clause_vs_gpl-1.0-plus': 29,\n",
       " 'bsd-2-clause_vs_gpl-2.0': 29,\n",
       " 'zlib_vs_gpl-2.0-plus': 29,\n",
       " 'apache-2.0_vs_other-permissive': 29,\n",
       " 'warranty-disclaimer_vs_free-unknown': 29,\n",
       " 'proprietary-license_vs_free-unknown': 29,\n",
       " 'lgpl-2.1-plus_vs_lgpl-2.1': 29,\n",
       " 'cc-by-sa-3.0_vs_apache-2.0': 29,\n",
       " 'gpl-2.0_vs_cc0-1.0': 29,\n",
       " 'generic-cla_vs_bsd-new': 29,\n",
       " 'cc0-1.0_vs_cc-by-4.0': 28,\n",
       " 'mit_vs_public-domain-disclaimer': 28,\n",
       " 'bsd-simplified_vs_lgpl-2.1-plus': 28,\n",
       " 'boost-1.0_vs_isc': 28,\n",
       " 'bsd-2-clause_vs_warranty-disclaimer': 28,\n",
       " 'lgpl-2.1_vs_public-domain': 28,\n",
       " 'gpl-2.0-plus_vs_proprietary-license': 28,\n",
       " 'dco-1.1_vs_apache-2.0': 28,\n",
       " 'mit AND unknown-license-reference_vs_apache-2.0': 28,\n",
       " 'isc_vs_generic-cla': 27,\n",
       " 'lgpl-2.1_vs_free-unknown': 27,\n",
       " 'gpl-2.0_vs_lgpl-2.0-plus': 27,\n",
       " 'cc0-1.0_vs_proprietary-license': 27,\n",
       " 'gpl-2.0-plus_vs_warranty-disclaimer': 27,\n",
       " 'warranty-disclaimer_vs_public-domain': 27,\n",
       " 'apache-2.0_vs_bsd-new AND unknown-license-reference': 27,\n",
       " 'lgpl-2.1_vs_gpl-3.0': 27,\n",
       " 'gpl-2.0_vs_boost-1.0': 26,\n",
       " 'unknown-license-reference_vs_lgpl-2.0-plus': 26,\n",
       " 'apache-2.0_vs_json': 26,\n",
       " 'gpl-3.0-plus_vs_lgpl-2.1-plus': 26,\n",
       " 'bsd-new_vs_gpl-3.0-plus': 26,\n",
       " 'gpl-3.0_vs_lgpl-3.0': 26,\n",
       " 'gpl-2.0-plus WITH autoconf-simple-exception-2.0_vs_apache-2.0': 26,\n",
       " 'mit_vs_apache-2.0 AND unknown-license-reference': 26,\n",
       " 'cc-by-4.0_vs_proprietary-license': 25,\n",
       " 'bsd-3-clause_vs_lgpl-2.0-plus': 25,\n",
       " 'bsd-3-clause_vs_gpl-3.0': 25,\n",
       " 'lgpl-2.1-plus_vs_warranty-disclaimer': 25,\n",
       " 'gpl-2.0-plus_vs_lgpl-2.0-plus': 25,\n",
       " 'gpl-1.0-plus_vs_lgpl-2.0-plus': 25,\n",
       " 'cc0-1.0_vs_lgpl-2.1-plus': 25,\n",
       " 'gpl-3.0-plus_vs_public-domain': 25,\n",
       " 'cc0-1.0_vs_gpl-1.0-plus': 25,\n",
       " 'isc_vs_lgpl-2.1': 25,\n",
       " 'gpl-3.0-plus_vs_free-unknown': 25,\n",
       " 'gpl-2.0-plus_vs_lgpl-2.1': 25,\n",
       " 'lgpl-2.0-plus_vs_gpl-3.0': 25,\n",
       " 'lgpl-2.1_vs_zlib': 24,\n",
       " 'bsd-3-clause_vs_gpl-3.0-plus': 24,\n",
       " 'bsd-3-clause_vs_fsf-free': 24,\n",
       " 'apache-2.0_vs_unicode': 24,\n",
       " 'isc_vs_lgpl-2.0-plus': 24,\n",
       " 'boost-1.0_vs_free-unknown': 24,\n",
       " 'zlib_vs_gpl-3.0': 24,\n",
       " 'apache-2.0_vs_cc-by-sa-4.0': 24,\n",
       " 'bsd-new_vs_warranty-disclaimer': 24,\n",
       " 'bsd-simplified_vs_boost-1.0': 24,\n",
       " 'fsf-ap_vs_apache-2.0': 24,\n",
       " 'gpl-3.0_vs_ofl-1.1': 24,\n",
       " 'generic-cla_vs_cc-by-4.0': 23,\n",
       " 'proprietary-license_vs_lgpl-2.1-plus': 23,\n",
       " 'lgpl-2.1_vs_unknown-license-reference': 23,\n",
       " 'mit_vs_gpl-3.0-plus WITH autoconf-exception-2.0': 23,\n",
       " 'apache-2.0_vs_unknown': 23,\n",
       " 'free-unknown_vs_generic-cla': 23,\n",
       " 'free-unknown_vs_dco-1.1': 23,\n",
       " 'lgpl-3.0_vs_apache-2.0': 23,\n",
       " 'bsd-simplified_vs_gpl-3.0': 23,\n",
       " 'dco-1.1_vs_isc': 23,\n",
       " 'python_vs_mit': 22,\n",
       " 'lgpl-2.1_vs_bsd-new': 22,\n",
       " 'gpl-2.0_vs_other-permissive': 22,\n",
       " 'free-unknown_vs_bsd-simplified': 22,\n",
       " 'proprietary-license_vs_bsd-simplified': 22,\n",
       " 'cc0-1.0_vs_warranty-disclaimer': 22,\n",
       " 'gpl-3.0-plus_vs_unknown-license-reference': 22,\n",
       " 'mit_vs_gpl-2.0 AND gpl-2.0-plus': 22,\n",
       " 'gpl-2.0_vs_public-domain-disclaimer': 22,\n",
       " 'bsd-3-clause_vs_other-permissive': 22,\n",
       " 'mit_vs_x11-xconsortium AND public-domain': 22,\n",
       " 'free-unknown_vs_fsf-free': 22,\n",
       " 'bsd-3-clause_vs_mpl-2.0': 22,\n",
       " 'lgpl-2.0-plus_vs_public-domain': 22,\n",
       " 'bsd-new AND unknown-license-reference_vs_bsd-new': 22,\n",
       " 'bzip2-libbzip-2010_vs_mit': 22,\n",
       " 'isc_vs_bsd-new AND unknown-license-reference': 22,\n",
       " 'boost-1.0_vs_bsd-new': 21,\n",
       " 'cc-by-4.0_vs_bsd-new': 21,\n",
       " 'apache-2.0_vs_public-domain-disclaimer': 21,\n",
       " 'public-domain_vs_bsd-new AND unknown-license-reference': 21,\n",
       " 'bsd-2-clause_vs_lgpl-2.0-plus': 21,\n",
       " 'lgpl-2.1-plus_vs_lgpl-2.0-plus': 21,\n",
       " 'warranty-disclaimer_vs_bsd-simplified': 21,\n",
       " 'bsd-3-clause_vs_fsf-ap': 21,\n",
       " 'bsd-3-clause_vs_bsd-new AND unknown-license-reference': 21,\n",
       " 'lgpl-2.1_vs_bsd-simplified': 21,\n",
       " 'ofl-1.1_vs_unknown-license-reference': 21,\n",
       " 'cc-by-4.0_vs_public-domain': 21,\n",
       " 'apache-2.0_vs_fsf-free': 21,\n",
       " 'mit_vs_fsf-unlimited-no-warranty': 21,\n",
       " 'mit_vs_fsf-unlimited': 21,\n",
       " 'mit_vs_unknown': 21,\n",
       " 'bsd-2-clause_vs_lgpl-2.1-plus': 21,\n",
       " 'bsd-3-clause_vs_lgpl-2.1': 21,\n",
       " 'unknown-license-reference_vs_other-permissive': 21,\n",
       " 'lgpl-2.1_vs_lgpl-2.0-plus': 21,\n",
       " 'unknown-license-reference_vs_boost-1.0': 21,\n",
       " 'public-domain_vs_unlicense': 21,\n",
       " 'gpl-2.0_vs_unlicense': 21,\n",
       " 'gpl-2.0 AND gpl-2.0-plus_vs_free-unknown': 21,\n",
       " 'apache-2.0_vs_agpl-3.0': 21,\n",
       " 'zlib_vs_cc-by-4.0': 21,\n",
       " 'bsd-2-clause_vs_cc-by-4.0': 20,\n",
       " 'mit_vs_gpl-1.0-plus AND gpl-2.0-plus': 20,\n",
       " 'gpl-1.0-plus_vs_public-domain-disclaimer': 20,\n",
       " 'gpl-2.0_vs_fsf-free': 20,\n",
       " 'zlib_vs_other-permissive': 20,\n",
       " 'isc_vs_gpl-3.0-plus': 20,\n",
       " 'mpl-2.0_vs_unknown-license-reference': 20,\n",
       " 'free-unknown_vs_cc-by-4.0': 20,\n",
       " 'unknown-license-reference_vs_dco-1.1': 20,\n",
       " 'gpl-2.0_vs_gpl-2.0-plus WITH autoconf-simple-exception-2.0': 20,\n",
       " 'unknown-license-reference_vs_mit AND unknown-license-reference': 20,\n",
       " 'gpl-1.0-plus AND gpl-3.0_vs_mit': 19,\n",
       " 'public-domain_vs_other-permissive': 19,\n",
       " 'zlib_vs_ofl-1.1': 19,\n",
       " 'free-unknown_vs_lgpl-2.0-plus': 19,\n",
       " 'unlicense_vs_unknown-license-reference': 19,\n",
       " 'unlicense_vs_gpl-1.0-plus': 19,\n",
       " 'mit_vs_generic-exception': 19,\n",
       " 'free-unknown_vs_gpl-1.0-plus AND gpl-2.0-plus': 19,\n",
       " 'bsd-3-clause_vs_unknown': 19,\n",
       " 'warranty-disclaimer_vs_cc-by-4.0': 19,\n",
       " 'bsd-2-clause_vs_fsf-ap': 19,\n",
       " 'free-unknown_vs_other-permissive': 19,\n",
       " 'gpl-1.0-plus_vs_fsf-free': 19,\n",
       " 'bsd-new AND unknown-license-reference_vs_unknown-license-reference': 19,\n",
       " 'apache-2.0_vs_epl-1.0': 19,\n",
       " 'proprietary-license_vs_lgpl-2.0-plus': 19,\n",
       " 'lgpl-2.1_vs_proprietary-license': 19,\n",
       " 'lgpl-2.1-plus_vs_boost-1.0': 19,\n",
       " 'gpl-3.0_vs_unlicense': 19,\n",
       " 'other-permissive_vs_gpl-1.0-plus': 19,\n",
       " 'public-domain-disclaimer_vs_free-unknown': 19,\n",
       " 'gpl-1.0-plus AND gpl-2.0_vs_free-unknown': 19,\n",
       " 'python_vs_apache-2.0': 18,\n",
       " 'gpl-2.0_vs_dco-1.1': 18,\n",
       " 'isc_vs_other-permissive': 18,\n",
       " 'bsd-3-clause_vs_ofl-1.1': 18,\n",
       " 'warranty-disclaimer_vs_boost-1.0': 18,\n",
       " 'apache-2.0_vs_apache-2.0 WITH llvm-exception': 18,\n",
       " 'warranty-disclaimer_vs_gpl-3.0-plus': 18,\n",
       " 'bsd-2-clause_vs_fsf-free': 18,\n",
       " 'public-domain_vs_fsf-free': 18,\n",
       " 'apache-2.0_vs_fsf-unlimited': 18,\n",
       " 'zlib_vs_lgpl-2.0-plus': 18,\n",
       " 'gpl-1.0-plus_vs_boost-1.0': 18,\n",
       " 'mpl-2.0_vs_gpl-2.0': 18,\n",
       " 'mpl-2.0_vs_gpl-3.0': 18,\n",
       " 'bzip2-libbzip-2010_vs_isc': 18,\n",
       " 'bsd-new AND unknown-license-reference_vs_zlib': 18,\n",
       " 'cc0-1.0_vs_boost-1.0': 18,\n",
       " 'apache-2.0 WITH llvm-exception_vs_mit': 18,\n",
       " 'gpl-2.0_vs_bsd-new AND unknown-license-reference': 18,\n",
       " 'unknown-license-reference_vs_agpl-3.0': 18,\n",
       " 'gpl-1.0-plus_vs_cc-by-4.0': 18,\n",
       " 'bsd-2-clause-views_vs_mit': 18,\n",
       " 'mit AND unknown-license-reference_vs_bsd-new': 17,\n",
       " 'bsd-2-clause_vs_gpl-2.0-plus WITH autoconf-simple-exception-2.0': 17,\n",
       " 'isc_vs_gpl-2.0-plus WITH autoconf-simple-exception-2.0': 17,\n",
       " 'cc0-1.0_vs_gpl-2.0-plus WITH autoconf-simple-exception-2.0': 17,\n",
       " 'bsd-2-clause_vs_other-permissive': 17,\n",
       " 'bsd-2-clause_vs_boost-1.0': 17,\n",
       " 'lgpl-2.1-plus_vs_public-domain-disclaimer': 17,\n",
       " 'apache-2.0_vs_gpl-3.0-plus WITH autoconf-exception-2.0': 17,\n",
       " 'gpl-2.0-plus_vs_public-domain-disclaimer': 17,\n",
       " 'apache-2.0_vs_wtfpl-2.0': 17,\n",
       " 'public-domain-disclaimer_vs_public-domain': 17,\n",
       " 'isc_vs_fsf-free': 17,\n",
       " 'gpl-3.0-plus_vs_bsd-simplified': 17,\n",
       " 'mit_vs_x11-lucent': 17,\n",
       " 'bsd-new_vs_lgpl-2.0-plus': 17,\n",
       " 'gpl-2.0-plus_vs_boost-1.0': 17,\n",
       " 'gpl-2.0-plus_vs_cc0-1.0': 17,\n",
       " 'x11-keith-packard_vs_mit': 17,\n",
       " 'fsf-ap_vs_isc': 17,\n",
       " 'bzip2-libbzip-2010_vs_apache-2.0': 17,\n",
       " 'cc0-1.0_vs_gpl-3.0': 17,\n",
       " 'warranty-disclaimer_vs_lgpl-2.1': 17,\n",
       " 'bzip2-libbzip-2010_vs_zlib': 17,\n",
       " 'bsd-2-clause-views_vs_apache-2.0': 17,\n",
       " 'gpl-2.0_vs_cc-by-4.0': 17,\n",
       " 'unicode_vs_isc': 17,\n",
       " 'isc_vs_mpl-2.0': 16,\n",
       " 'motorola_vs_free-unknown': 16,\n",
       " 'bsd-3-clause_vs_public-domain-disclaimer': 16,\n",
       " 'bsd-3-clause_vs_dco-1.1': 16,\n",
       " 'bsd-2-clause_vs_gpl-2.0-plus': 16,\n",
       " 'bsd-3-clause_vs_mit-old-style-no-advert': 16,\n",
       " 'mit_vs_mit-old-style-no-advert': 16,\n",
       " 'public-domain_vs_fsf-ap': 16,\n",
       " 'unknown-license-reference_vs_unknown': 16,\n",
       " 'cc0-1.0_vs_other-permissive': 16,\n",
       " 'apache-2.0_vs_x11-xconsortium AND public-domain': 16,\n",
       " 'ofl-1.1_vs_public-domain': 16,\n",
       " 'gpl-2.0_vs_fsf-unlimited': 16,\n",
       " 'mit_vs_epl-1.0': 16,\n",
       " 'gpl-2.0_vs_gpl-1.0': 16,\n",
       " 'gpl-2.0-plus_vs_fsf-free': 16,\n",
       " 'apache-2.0_vs_bsd-zero': 16,\n",
       " 'proprietary-license_vs_generic-cla': 16,\n",
       " 'mit_vs_gpl-1.0-plus AND gpl-2.0': 16,\n",
       " 'warranty-disclaimer_vs_other-permissive': 16,\n",
       " 'mit_vs_cc-by-nc-sa-4.0': 16,\n",
       " 'motorola_vs_gpl-2.0': 16,\n",
       " 'motorola_vs_gpl-1.0-plus': 16,\n",
       " 'bsd-simplified_vs_bsd-new AND unknown-license-reference': 16,\n",
       " 'ofl-1.1_vs_cc0-1.0': 16,\n",
       " 'cc0-1.0_vs_generic-cla': 16,\n",
       " 'lgpl-3.0_vs_gpl-2.0': 16,\n",
       " 'gpl-2.0-plus WITH autoconf-simple-exception-2.0_vs_zlib': 16,\n",
       " 'khronos_vs_apache-2.0': 16,\n",
       " 'free-unknown_vs_unlicense': 16,\n",
       " 'khronos_vs_zlib': 16,\n",
       " 'openssl-ssleay_vs_apache-2.0': 16,\n",
       " 'bsd-2-clause_vs_generic-cla': 15,\n",
       " 'isc_vs_wtfpl-2.0': 15,\n",
       " 'isc_vs_ofl-1.1': 15,\n",
       " 'bsd-3-clause_vs_json': 15,\n",
       " 'cc0-1.0_vs_fsf-ap': 15,\n",
       " 'fsf-ap_vs_free-unknown': 15,\n",
       " 'bsd-3-clause_vs_apache-2.0 AND unknown-license-reference': 15,\n",
       " 'bsd-3-clause_vs_generic-exception': 15,\n",
       " 'isc_vs_gpl-1.0-plus AND gpl-2.0-plus': 15,\n",
       " 'lgpl-2.1-plus_vs_gpl-1.0-plus AND gpl-2.0-plus': 15,\n",
       " 'public-domain_vs_gpl-1.0-plus AND gpl-2.0-plus': 15,\n",
       " 'bsd-3-clause_vs_x11-xconsortium AND public-domain': 15,\n",
       " 'unknown-license-reference_vs_fsf-free': 15,\n",
       " 'gpl-1.0-plus_vs_generic-exception': 15,\n",
       " 'zlib_vs_unicode': 15,\n",
       " 'bsd-3-clause_vs_fsf-unlimited-no-warranty': 15,\n",
       " 'bsd-3-clause_vs_unicode': 15,\n",
       " 'bsd-3-clause_vs_gpl-2.0-plus WITH autoconf-simple-exception-2.0': 15,\n",
       " 'apache-2.0_vs_fsf-unlimited-no-warranty': 15,\n",
       " 'isc_vs_fsf-unlimited': 15,\n",
       " 'gpl-2.0_vs_gpl-2.0 AND unknown-license-reference': 15,\n",
       " 'lgpl-2.1_vs_gpl-3.0-plus': 15,\n",
       " 'zlib_vs_gpl-3.0-plus': 15,\n",
       " 'lgpl-2.0-plus_vs_gpl-3.0-plus': 15,\n",
       " 'mit_vs_bsd-zero': 15,\n",
       " 'gpl-3.0_vs_agpl-3.0': 15,\n",
       " 'gpl-3.0-plus_vs_proprietary-license': 15,\n",
       " 'warranty-disclaimer_vs_lgpl-2.0-plus': 15,\n",
       " 'mpl-2.0_vs_gpl-1.0-plus': 15,\n",
       " 'bsd-new_vs_ofl-1.1': 15,\n",
       " 'free-unknown_vs_gpl-2.0-plus WITH autoconf-simple-exception-2.0': 15,\n",
       " 'mit-old-style-no-advert_vs_free-unknown': 15,\n",
       " 'gpl-2.0-plus AND gpl-1.0-plus_vs_mit': 15,\n",
       " 'lgpl-2.1-plus_vs_gpl-2.0-plus WITH autoconf-simple-exception-2.0': 15,\n",
       " 'warranty-disclaimer_vs_generic-cla': 15,\n",
       " 'cc-by-sa-3.0_vs_gpl-3.0': 15,\n",
       " 'isc_vs_apache-2.0 AND unknown-license-reference': 15,\n",
       " 'x11-keith-packard_vs_free-unknown': 15,\n",
       " 'gpl-2.0-plus AND gpl-1.0-plus_vs_free-unknown': 15,\n",
       " 'gpl-2.0-plus_vs_bsd-new AND unknown-license-reference': 15,\n",
       " 'bsd-new_vs_gpl-2.0-plus WITH autoconf-simple-exception-2.0': 15,\n",
       " 'gpl-3.0_vs_boost-1.0': 15,\n",
       " 'cc-by-nc-sa-4.0_vs_apache-2.0': 15,\n",
       " 'bsd-2-clause_vs_lgpl-2.1': 14,\n",
       " 'apache-2.0 AND mit_vs_unknown-license-reference': 14,\n",
       " 'apache-2.0_vs_cddl-1.0': 14,\n",
       " 'agpl-3.0_vs_warranty-disclaimer': 14,\n",
       " 'unknown-license-reference_vs_cc-by-sa-4.0': 14,\n",
       " 'mit_vs_lgpl-3.0-plus': 14,\n",
       " 'public-domain-disclaimer_vs_warranty-disclaimer': 14,\n",
       " 'apache-2.0_vs_x11-keith-packard': 14,\n",
       " 'mit_vs_uoi-ncsa': 14,\n",
       " 'fsf-ap_vs_gpl-3.0-plus WITH autoconf-exception-2.0': 14,\n",
       " 'bsd-3-clause_vs_apache-2.0 WITH llvm-exception': 14,\n",
       " 'gpl-3.0_vs_public-domain-disclaimer': 14,\n",
       " 'gpl-2.0-plus_vs_mpl-2.0': 14,\n",
       " 'gpl-2.0_vs_x11-keith-packard': 14,\n",
       " 'gpl-1.0-plus_vs_x11-keith-packard': 14,\n",
       " 'free-unknown_vs_unknown': 14,\n",
       " 'warranty-disclaimer_vs_fsf-free': 14,\n",
       " 'other-permissive_vs_proprietary-license': 14,\n",
       " 'lgpl-2.1-plus_vs_fsf-free': 14,\n",
       " 'zlib_vs_dco-1.1': 14,\n",
       " 'gpl-2.0_vs_mit-old-style-no-advert': 14,\n",
       " 'gpl-2.0_vs_fsf-ap': 14,\n",
       " 'bsd-new AND unknown-license-reference_vs_gpl-1.0-plus': 14,\n",
       " 'gpl-1.0-plus_vs_lgpl-2.0': 14,\n",
       " 'gpl-2.0_vs_generic-exception': 14,\n",
       " 'gpl-2.0_vs_lgpl-2.0': 14,\n",
       " 'lgpl-2.1_vs_fsf-free': 14,\n",
       " 'fsf-ap_vs_lgpl-2.1-plus': 14,\n",
       " 'gpl-2.0 AND gpl-2.0-plus_vs_public-domain': 14,\n",
       " 'gpl-2.0_vs_gpl-2.0 WITH linux-syscall-exception-gpl': 14,\n",
       " 'fsf-unlimited_vs_gpl-2.0-plus WITH autoconf-simple-exception-2.0': 14,\n",
       " 'fsf-ap_vs_zlib': 14,\n",
       " 'gpl-1.0-plus_vs_gpl-2.0-plus WITH autoconf-simple-exception-2.0': 14,\n",
       " 'mit AND unknown-license-reference_vs_isc': 14,\n",
       " 'lgpl-2.1-plus_vs_dco-1.1': 14,\n",
       " 'unknown_vs_cc-by-4.0': 14,\n",
       " 'fsf-unlimited-no-warranty_vs_isc': 14,\n",
       " 'gpl-2.0-plus WITH autoconf-simple-exception-2.0_vs_lgpl-2.1': 14,\n",
       " 'gpl-1.0-plus_vs_dco-1.1': 14,\n",
       " 'mit AND unknown-license-reference_vs_zlib': 14,\n",
       " 'bsd-2-clause_vs_dco-1.1': 13,\n",
       " 'mit AND apache-2.0_vs_unknown-license-reference': 13,\n",
       " 'mit AND bsd-new_vs_unknown-license-reference': 13,\n",
       " 'gpl-3.0_vs_generic-cla': 13,\n",
       " 'mit AND unknown-license-reference_vs_cc0-1.0': 13,\n",
       " 'isc_vs_bsd-2-clause-views': 13,\n",
       " 'apache-2.0_vs_cc-pd': 13,\n",
       " 'bsd-2-clause_vs_ofl-1.1': 13,\n",
       " 'boost-1.0_vs_lgpl-2.1': 13,\n",
       " 'apache-2.0_vs_apache-2.0 AND public-domain': 13,\n",
       " 'ofl-1.1_vs_warranty-disclaimer': 13,\n",
       " 'public-domain_vs_mit-old-style-no-advert': 13,\n",
       " 'cc-by-4.0_vs_bsd-simplified': 13,\n",
       " 'isc_vs_gpl-3.0-plus WITH autoconf-exception-2.0': 13,\n",
       " 'bsd-3-clause_vs_gpl-3.0-plus WITH autoconf-exception-2.0': 13,\n",
       " 'apache-2.0_vs_generic-exception': 13,\n",
       " 'gpl-2.0-plus_vs_unlicense': 13,\n",
       " 'apache-2.0_vs_gpl-2.0 AND gpl-2.0-plus': 13,\n",
       " 'apache-2.0_vs_gpl-1.0-plus AND gpl-2.0-plus': 13,\n",
       " 'isc_vs_gpl-2.0 AND gpl-2.0-plus': 13,\n",
       " 'gpl-2.0 AND gpl-2.0-plus_vs_lgpl-2.1-plus': 13,\n",
       " 'zlib_vs_fsf-free': 13,\n",
       " 'apache-2.0_vs_x11-lucent': 13,\n",
       " 'gpl-1.0-plus_vs_fsf-ap': 13,\n",
       " 'fsf-free_vs_proprietary-license': 13,\n",
       " 'zlib_vs_bsd-new AND google-patent-license-webm': 13,\n",
       " 'bsd-2-clause_vs_fsf-unlimited': 13,\n",
       " 'bsd-3-clause_vs_openssl-ssleay': 13,\n",
       " 'bsd-3-clause_vs_fsf-unlimited': 13,\n",
       " 'mit_vs_openssl-ssleay': 13,\n",
       " 'apache-2.0_vs_bsd-new AND google-patent-license-webm': 13,\n",
       " 'gpl-1.0-plus_vs_fsf-unlimited': 13,\n",
       " 'isc_vs_bsd-new AND google-patent-license-webm': 13,\n",
       " 'zlib_vs_public-domain-disclaimer': 13,\n",
       " 'bsd-3-clause_vs_bsla': 13,\n",
       " 'mit_vs_bsla': 13,\n",
       " 'gpl-2.0_vs_bsla': 13,\n",
       " 'lgpl-2.1-plus_vs_ofl-1.1': 13,\n",
       " 'ofl-1.1_vs_proprietary-license': 13,\n",
       " 'mit_vs_bsd-new AND facebook-patent-rights-2': 13,\n",
       " 'gpl-2.0_vs_gpl-2.0 AND bsd-new': 13,\n",
       " 'lgpl-2.1_vs_gpl-1.0-plus AND gpl-2.0-plus': 13,\n",
       " 'gpl-2.0-plus WITH autoconf-simple-exception-2.0_vs_public-domain': 13,\n",
       " 'public-domain-disclaimer_vs_isc': 13,\n",
       " 'mpl-2.0_vs_warranty-disclaimer': 13,\n",
       " 'proprietary-license_vs_mpl-2.0': 13,\n",
       " 'mit AND cc0-1.0_vs_apache-2.0': 13,\n",
       " 'mit AND cc0-1.0_vs_mit': 13,\n",
       " 'unknown-license-reference_vs_apache-2.0 AND bsd-new': 13,\n",
       " 'proprietary-license_vs_boost-1.0': 13,\n",
       " 'cc-by-sa-3.0_vs_unknown-license-reference': 13,\n",
       " 'fsf-unlimited-no-warranty_vs_gpl-2.0-plus WITH autoconf-simple-exception-2.0': 13,\n",
       " 'fsf-ap_vs_gpl-2.0-plus WITH autoconf-simple-exception-2.0': 13,\n",
       " 'fsf-free_vs_gpl-2.0-plus WITH autoconf-simple-exception-2.0': 13,\n",
       " 'lgpl-2.1_vs_cc0-1.0': 13,\n",
       " 'proprietary-license_vs_cc-by-sa-3.0': 13,\n",
       " 'mpl-2.0_vs_free-unknown': 13,\n",
       " 'generic-exception_vs_free-unknown': 13,\n",
       " 'bsd-new_vs_cc-by-sa-4.0': 13,\n",
       " 'bsd-new_vs_agpl-3.0': 13,\n",
       " 'lgpl-2.1-plus_vs_generic-cla': 13,\n",
       " 'bsd-new_vs_wtfpl-2.0': 13,\n",
       " 'gpl-2.0_vs_mit AND unknown-license-reference': 13,\n",
       " 'gpl-2.0_vs_bsd-2-clause-views': 13,\n",
       " 'unknown-license-reference_vs_gpl-2.0-plus WITH autoconf-simple-exception-2.0': 13,\n",
       " 'bsd-2-clause_vs_apache-2.0 AND unknown-license-reference': 12,\n",
       " 'free-unknown AND cc-by-4.0_vs_cc-by-4.0': 12,\n",
       " 'bsd-2-clause_vs_bzip2-libbzip-2010': 12,\n",
       " 'bzip2-libbzip-2010_vs_bsd-new': 12,\n",
       " 'isc_vs_cc-by-sa-4.0': 12,\n",
       " 'zlib_vs_bsd-2-clause-views': 12,\n",
       " 'gpl-1.0-plus AND gpl-3.0_vs_apache-2.0': 12,\n",
       " 'gpl-2.0_vs_cc-by-sa-4.0': 12,\n",
       " 'public-domain_vs_x11-lucent': 12,\n",
       " 'gpl-3.0_vs_lgpl-3.0-plus': 12,\n",
       " 'proprietary-license_vs_public-domain-disclaimer': 12,\n",
       " 'unknown-license-reference_vs_public-domain-disclaimer': 12,\n",
       " 'unknown-license-reference_vs_json': 12,\n",
       " 'lgpl-3.0_vs_public-domain': 12,\n",
       " 'bsd-3-clause_vs_cc-by-sa-3.0': 12,\n",
       " 'bsd-3-clause_vs_uoi-ncsa': 12,\n",
       " 'gpl-2.0-plus_vs_wtfpl-2.0': 12,\n",
       " 'gpl-2.0-plus_vs_x11-keith-packard': 12,\n",
       " 'bsd-3-clause_vs_x11-lucent': 12,\n",
       " 'mit_vs_historical': 12,\n",
       " 'cc0-1.0_vs_fsf-free': 12,\n",
       " 'bsd-2-clause_vs_x11-xconsortium AND public-domain': 12,\n",
       " 'fsf-free_vs_x11-xconsortium AND public-domain': 12,\n",
       " 'lgpl-2.1-plus_vs_fsf-unlimited': 12,\n",
       " 'gpl-2.0_vs_fsf-unlimited-no-warranty': 12,\n",
       " 'mit_vs_bsd-new AND google-patent-license-webm': 12,\n",
       " 'apache-2.0_vs_info-zip-2009-01': 12,\n",
       " 'gpl-1.0-plus_vs_mit-old-style-no-advert': 12,\n",
       " 'fsf-unlimited-no-warranty_vs_fsf-free': 12,\n",
       " 'free-unknown_vs_fsf-unlimited': 12,\n",
       " 'cc-by-4.0_vs_mpl-2.0': 12,\n",
       " 'bsd-2-clause_vs_gpl-3.0-plus': 12,\n",
       " 'bsd-2-clause_vs_gpl-3.0': 12,\n",
       " 'khronos_vs_mit': 12,\n",
       " 'gpl-1.0-plus_vs_bsla': 12,\n",
       " 'gpl-1.0-plus_vs_gpl-2.0 AND unknown-license-reference': 12,\n",
       " 'gpl-1.0-plus_vs_gpl-1.0': 12,\n",
       " 'gpl-2.0_vs_gfdl-1.1-plus': 12,\n",
       " 'gpl-2.0_vs_gpl-2.0-plus WITH mif-exception': 12,\n",
       " 'gpl-2.0_vs_unknown': 12,\n",
       " 'gpl-2.0-plus_vs_other-permissive': 12,\n",
       " 'mit_vs_gpl-2.0 AND unknown-license-reference': 12,\n",
       " 'lgpl-2.1_vs_generic-exception': 12,\n",
       " 'gpl-3.0_vs_fsf-free': 12,\n",
       " 'public-domain_vs_fsf-unlimited': 12,\n",
       " 'gpl-3.0_vs_fsf-ap': 12,\n",
       " 'gpl-2.0 AND gpl-2.0-plus_vs_unknown-license-reference': 12,\n",
       " 'gpl-1.0-plus AND gpl-2.0-plus_vs_unknown-license-reference': 12,\n",
       " 'lgpl-2.1-plus_vs_other-permissive': 12,\n",
       " 'gpl-1.0-plus_vs_gpl-2.0 WITH linux-syscall-exception-gpl': 12,\n",
       " 'lgpl-3.0_vs_lgpl-2.0-plus': 12,\n",
       " 'mit-old-style-no-advert_vs_isc': 12,\n",
       " 'lgpl-2.1-plus_vs_cc-by-4.0': 12,\n",
       " 'gpl-3.0-plus_vs_boost-1.0': 12,\n",
       " 'apache-2.0_vs_mit-0': 12,\n",
       " 'proprietary-license_vs_unlicense': 12,\n",
       " 'lgpl-2.1-plus_vs_bsd-new AND unknown-license-reference': 12,\n",
       " 'warranty-disclaimer_vs_gpl-2.0-plus WITH autoconf-simple-exception-2.0': 12,\n",
       " 'json_vs_isc': 12,\n",
       " 'gpl-2.0_vs_agpl-3.0': 12,\n",
       " 'gpl-2.0 AND unknown-license-reference_vs_free-unknown': 12,\n",
       " 'gpl-2.0-plus_vs_lgpl-3.0': 12,\n",
       " 'lgpl-3.0_vs_zlib': 12,\n",
       " 'lgpl-2.1_vs_lgpl-3.0': 12,\n",
       " 'gpl-1.0-plus_vs_mit AND unknown-license-reference': 12,\n",
       " 'fsf-unlimited_vs_lgpl-2.1': 12,\n",
       " 'free-unknown_vs_mit AND unknown-license-reference': 12,\n",
       " 'bsd-2-clause_vs_mit AND unknown-license-reference': 11,\n",
       " 'bsd-2-clause_vs_bsd-2-clause-views': 11,\n",
       " 'cc-by-4.0_vs_gpl-2.0-plus WITH autoconf-simple-exception-2.0': 11,\n",
       " 'bsd-2-clause_vs_bsd-new AND unknown-license-reference': 11,\n",
       " 'mit_vs_free-unknown AND mit': 11,\n",
       " 'lgpl-3.0_vs_bsd-new': 11,\n",
       " 'gpl-2.0_vs_gpl-1.0-plus AND lgpl-2.0-plus': 11,\n",
       " 'public-domain_vs_unicode': 11,\n",
       " 'bsd-3-clause_vs_python': 11,\n",
       " 'apache-2.0_vs_lgpl-3.0-plus': 11,\n",
       " 'x11-keith-packard_vs_warranty-disclaimer': 11,\n",
       " 'lgpl-3.0_vs_unknown-license-reference': 11,\n",
       " 'gpl-2.0-plus_vs_ofl-1.1': 11,\n",
       " 'gpl-1.0-plus_vs_ofl-1.1': 11,\n",
       " 'isc_vs_generic-exception': 11,\n",
       " 'cc0-1.0_vs_generic-exception': 11,\n",
       " 'mit_vs_beerware': 11,\n",
       " 'proprietary-license_vs_gpl-1.0-plus AND gpl-2.0-plus': 11,\n",
       " 'warranty-disclaimer_vs_gpl-1.0-plus AND gpl-2.0-plus': 11,\n",
       " 'lgpl-2.1-plus_vs_unlicense': 11,\n",
       " 'gpl-1.0-plus AND gpl-2.0_vs_public-domain': 11,\n",
       " 'unknown-license-reference_vs_fsf-ap': 11,\n",
       " 'x11-lucent_vs_gpl-1.0-plus': 11,\n",
       " 'bsd-2-clause_vs_generic-exception': 11,\n",
       " 'zlib_vs_info-zip-2009-01': 11,\n",
       " 'bsd-2-clause_vs_mit-old-style-no-advert': 11,\n",
       " 'bsd-2-clause_vs_gpl-3.0-plus WITH autoconf-exception-2.0': 11,\n",
       " 'bsd-3-clause_vs_bsd-2-clause-views': 11,\n",
       " 'bsd-3-clause_vs_bzip2-libbzip-2010': 11,\n",
       " 'mit_vs_info-zip-2009-01': 11,\n",
       " 'bsd-new AND unknown-license-reference_vs_proprietary-license': 11,\n",
       " 'fsf-unlimited-no-warranty_vs_free-unknown': 11,\n",
       " 'fsf-unlimited-no-warranty_vs_fsf-unlimited': 11,\n",
       " 'isc_vs_x11-xconsortium AND public-domain': 11,\n",
       " 'fsf-unlimited_vs_fsf-ap': 11,\n",
       " 'fsf-unlimited_vs_fsf-free': 11,\n",
       " 'gpl-2.0-plus WITH autoconf-simple-exception-2.0_vs_x11-xconsortium AND public-domain': 11,\n",
       " 'apache-2.0_vs_bsla': 11,\n",
       " 'unknown-license-reference_vs_bsla': 11,\n",
       " 'gpl-1.0-plus_vs_gpl-2.0 AND bsd-new': 11,\n",
       " 'gpl-1.0-plus_vs_unknown': 11,\n",
       " 'gpl-1.0-plus_vs_gpl-1.0-plus AND lgpl-2.0-plus': 11,\n",
       " 'gpl-2.0-plus_vs_gpl-1.0': 11,\n",
       " 'gpl-2.0-plus_vs_lgpl-2.0': 11,\n",
       " 'lgpl-2.1-plus_vs_lgpl-2.0': 11,\n",
       " 'bsd-2-clause_vs_unknown': 11,\n",
       " 'bsd-2-clause_vs_public-domain-disclaimer': 11,\n",
       " 'lgpl-2.0-plus_vs_generic-exception': 11,\n",
       " 'gpl-3.0_vs_generic-exception': 11,\n",
       " 'mit_vs_gpl-3.0-plus WITH bison-exception-2.2': 11,\n",
       " 'public-domain_vs_fsf-unlimited-no-warranty': 11,\n",
       " 'lgpl-2.1_vs_fsf-ap': 11,\n",
       " 'gpl-2.0-plus AND gpl-1.0-plus_vs_unknown-license-reference': 11,\n",
       " 'cc0-1.0_vs_gpl-3.0-plus': 11,\n",
       " 'generic-exception_vs_lgpl-2.1-plus': 11,\n",
       " 'apache-2.0_vs_bsd-new AND gpl-1.0-plus': 11,\n",
       " 'lgpl-2.1_vs_other-permissive': 11,\n",
       " 'gpl-2.0-plus_vs_gpl-2.0-plus WITH autoconf-simple-exception-2.0': 11,\n",
       " 'gpl-2.0_vs_ofl-1.1': 11,\n",
       " 'cc-by-sa-3.0_vs_isc': 11,\n",
       " 'lgpl-2.1_vs_cc-by-4.0': 11,\n",
       " 'mit AND unknown-license-reference_vs_bsd-simplified': 11,\n",
       " 'generic-cla_vs_dco-1.1': 11,\n",
       " 'dco-1.1_vs_bsd-new': 11,\n",
       " 'mit_vs_mit-0': 11,\n",
       " 'fsf-ap_vs_boost-1.0': 11,\n",
       " 'lgpl-2.1-plus_vs_gpl-1.0-plus AND gpl-2.0': 11,\n",
       " 'unknown_vs_isc': 11,\n",
       " 'free-unknown_vs_ofl-1.1': 11,\n",
       " 'agpl-3.0_vs_proprietary-license': 11,\n",
       " 'bzip2-libbzip-2010_vs_bsd-2-clause-views': 11,\n",
       " 'gpl-2.0 WITH classpath-exception-2.0_vs_apache-2.0': 11,\n",
       " 'unknown-license-reference_vs_bzip2-libbzip-2010': 11,\n",
       " 'gpl-2.0-plus_vs_gpl-2.0 WITH linux-syscall-exception-gpl': 11,\n",
       " 'gpl-1.0_vs_free-unknown': 11,\n",
       " 'python_vs_bsd-new': 11,\n",
       " 'wtfpl-2.0_vs_mpl-2.0': 11,\n",
       " 'bsd-new AND unknown-license-reference_vs_boost-1.0': 11,\n",
       " 'beerware_vs_gpl-2.0': 11,\n",
       " 'cc-pd_vs_mit': 11,\n",
       " 'bsd-new_vs_other-permissive': 11,\n",
       " 'mit-old-style_vs_gpl-2.0': 11,\n",
       " 'mit AND unknown-license-reference_vs_generic-cla': 10,\n",
       " 'mit AND unknown-license-reference_vs_cc-by-4.0': 10,\n",
       " 'bzip2-libbzip-2010_vs_gpl-2.0-plus WITH autoconf-simple-exception-2.0': 10,\n",
       " 'isc_vs_mit AND cc0-1.0': 10,\n",
       " 'cc0-1.0_vs_bsd-2-clause-views': 10,\n",
       " 'libpng_vs_khronos': 10,\n",
       " 'gpl-2.0_vs_wtfpl-2.0': 10,\n",
       " 'agpl-3.0_vs_lgpl-2.0-plus': 10,\n",
       " 'gpl-2.0_vs_xfree86-1.0': 10,\n",
       " 'warranty-disclaimer_vs_cc-by-sa-3.0': 10,\n",
       " 'bsd-2-clause_vs_unicode': 10,\n",
       " 'bsd-2-clause_vs_x11-lucent': 10,\n",
       " 'cc-by-4.0_vs_apache-2.0 AND unknown-license-reference': 10,\n",
       " 'apache-2.0_vs_apache-2.0 AND generic-cla': 10,\n",
       " 'free-unknown_vs_cc-by-sa-4.0': 10,\n",
       " 'mit_vs_apache-2.0 AND public-domain': 10,\n",
       " 'warranty-disclaimer_vs_json': 10,\n",
       " 'cc-by-4.0_vs_json': 10,\n",
       " 'boost-1.0_vs_ofl-1.1': 10,\n",
       " 'zlib_vs_x11-keith-packard': 10,\n",
       " 'public-domain_vs_apache-2.0 AND unknown-license-reference': 10,\n",
       " 'cc0-1.0_vs_mit-old-style-no-advert': 10,\n",
       " 'mpl-2.0_vs_public-domain': 10,\n",
       " 'lgpl-3.0_vs_gpl-1.0-plus': 10,\n",
       " 'agpl-3.0_vs_gpl-1.0-plus': 10,\n",
       " 'gpl-2.0-plus_vs_cc-by-sa-3.0': 10,\n",
       " 'cc-by-sa-3.0_vs_ofl-1.1': 10,\n",
       " 'cc0-1.0_vs_cc-by-sa-3.0': 10,\n",
       " 'cc0-1.0_vs_gpl-3.0-plus WITH autoconf-exception-2.0': 10,\n",
       " 'warranty-disclaimer_vs_generic-exception': 10,\n",
       " 'gpl-2.0-plus_vs_beerware': 10,\n",
       " 'mit_vs_gpl-2.0-plus AND gpl-2.0': 10,\n",
       " 'proprietary-license_vs_gpl-2.0 AND gpl-2.0-plus': 10,\n",
       " 'warranty-disclaimer_vs_gpl-2.0 AND gpl-2.0-plus': 10,\n",
       " 'lgpl-2.1-plus_vs_gpl-2.0-plus AND gpl-1.0-plus': 10,\n",
       " 'python_vs_unknown-license-reference': 10,\n",
       " 'unknown-license-reference_vs_x11-xconsortium AND public-domain': 10,\n",
       " 'free-unknown_vs_x11-xconsortium AND public-domain': 10,\n",
       " 'lgpl-2.1-plus_vs_fsf-unlimited-no-warranty': 10,\n",
       " 'bsd-2-clause_vs_fsf-unlimited-no-warranty': 10,\n",
       " 'bsd-3-clause_vs_mit AND unknown-license-reference': 10,\n",
       " 'bsd-3-clause_vs_bsd-new AND google-patent-license-webm': 10,\n",
       " 'gpl-2.0_vs_gpl-3.0-plus WITH autoconf-exception-2.0': 10,\n",
       " 'gpl-2.0_vs_bsd-source-code': 10,\n",
       " 'fsf-unlimited-no-warranty_vs_x11-xconsortium AND public-domain': 10,\n",
       " 'warranty-disclaimer_vs_fsf-unlimited': 10,\n",
       " 'cc0-1.0_vs_unknown': 10,\n",
       " 'isc_vs_bsla': 10,\n",
       " 'zlib_vs_bsla': 10,\n",
       " 'bsd-2-clause_vs_bsla': 10,\n",
       " 'ijg_vs_boost-1.0': 10,\n",
       " 'ijg_vs_public-domain': 10,\n",
       " 'khronos_vs_public-domain': 10,\n",
       " 'apache-2.0_vs_bsd-new AND facebook-patent-rights-2': 10,\n",
       " 'gpl-1.0-plus_vs_gpl-2.0 AND free-unknown': 10,\n",
       " 'gpl-1.0-plus_vs_gfdl-1.1-plus': 10,\n",
       " 'gpl-1.0-plus_vs_gpl-2.0-plus WITH mif-exception': 10,\n",
       " 'gpl-1.0-plus_vs_public-domain AND gpl-1.0-plus': 10,\n",
       " 'gpl-2.0_vs_gpl-2.0 AND free-unknown': 10,\n",
       " 'gpl-2.0_vs_gpl-2.0-plus WITH gcc-linking-exception-2.0': 10,\n",
       " 'gpl-2.0_vs_bsd-plus-patent AND bsd-simplified': 10,\n",
       " 'gpl-2.0_vs_gpl-2.0 AND isc': 10,\n",
       " 'gpl-2.0_vs_linux-syscall-exception-gpl AND gpl-2.0 AND gpl-2.0-plus AND gpl-1.0-plus AND lgpl-2.0 AND lgpl-2.0-plus AND lgpl-2.1 AND lgpl-2.1-plus AND unknown-spdx': 10,\n",
       " 'gpl-2.0_vs_public-domain AND gpl-1.0-plus': 10,\n",
       " 'gpl-2.0-plus_vs_gpl-2.0 AND unknown-license-reference': 10,\n",
       " 'gpl-2.0-plus_vs_gpl-2.0 AND bsd-new': 10,\n",
       " 'gpl-2.0-plus_vs_generic-exception': 10,\n",
       " 'unknown-license-reference_vs_generic-exception': 10,\n",
       " 'zlib_vs_gpl-1.0-plus AND gpl-2.0-plus': 10,\n",
       " 'zlib_vs_unknown': 10,\n",
       " 'lgpl-2.0-plus_vs_public-domain-disclaimer': 10,\n",
       " 'lgpl-2.0-plus_vs_fsf-free': 10,\n",
       " 'gpl-3.0_vs_unknown': 10,\n",
       " 'free-unknown_vs_gpl-1.0-plus AND lgpl-2.0-plus': 10,\n",
       " 'free-unknown_vs_xfree86-1.0': 10,\n",
       " 'free-unknown_vs_lgpl-2.0': 10,\n",
       " 'free-unknown_vs_bsla': 10,\n",
       " 'free-unknown_vs_public-domain AND gpl-1.0-plus': 10,\n",
       " 'mit_vs_mit-old-style': 10,\n",
       " 'gpl-2.0-plus_vs_fsf-unlimited': 10,\n",
       " 'gpl-2.0-plus_vs_fsf-unlimited-no-warranty': 10,\n",
       " 'gpl-2.0_vs_x11-lucent': 10,\n",
       " 'lgpl-2.1_vs_fsf-unlimited-no-warranty': 10,\n",
       " 'apache-2.0_vs_cc-by-nc-4.0': 10,\n",
       " 'agpl-3.0_vs_gpl-2.0-plus': 10,\n",
       " 'lgpl-2.1_vs_unicode': 10,\n",
       " 'lgpl-2.0-plus_vs_other-permissive': 10,\n",
       " 'bsd-source-code_vs_public-domain': 10,\n",
       " 'gpl-2.0_vs_openssl-ssleay': 10,\n",
       " 'cc0-1.0_vs_lgpl-2.0-plus': 10,\n",
       " 'wtfpl-2.0_vs_bsd-simplified': 10,\n",
       " 'gpl-2.0 AND gpl-2.0-plus_vs_lgpl-2.1': 10,\n",
       " 'mit_vs_freetype': 10,\n",
       " 'lgpl-2.1_vs_bsd-source-code': 10,\n",
       " 'apache-2.0 AND unknown-license-reference_vs_bsd-new': 10,\n",
       " 'mit-old-style-no-advert_vs_zlib': 10,\n",
       " 'generic-cla_vs_public-domain': 10,\n",
       " 'gpl-3.0-plus_vs_unlicense': 10,\n",
       " 'apache-2.0_vs_gpl-1.0-plus AND gpl-2.0': 10,\n",
       " 'lgpl-2.1-plus_vs_bsd-2-clause-views': 10,\n",
       " 'bsd-new_vs_unicode': 10,\n",
       " 'gpl-2.0-plus_vs_unicode': 10,\n",
       " 'mit_vs_lgpl-2.0': 10,\n",
       " 'gpl-2.0 AND unknown-license-reference_vs_public-domain': 10,\n",
       " 'cc-by-4.0_vs_ofl-1.1': 10,\n",
       " 'bzip2-libbzip-2010_vs_cc0-1.0': 10,\n",
       " 'bzip2-libbzip-2010_vs_cc-by-4.0': 10,\n",
       " 'public-domain_vs_bzip2-libbzip-2010': 10,\n",
       " 'gpl-3.0-plus_vs_generic-cla': 10,\n",
       " 'isc_vs_gpl-1.0-plus AND gpl-2.0': 10,\n",
       " 'gpl-2.0-plus AND gpl-2.0_vs_free-unknown': 10,\n",
       " 'bsd-source-code_vs_gpl-1.0-plus': 10,\n",
       " 'gpl-1.0-plus_vs_bsd-2-clause-views': 10,\n",
       " 'dco-1.1_vs_cc-by-4.0': 10,\n",
       " 'proprietary-license_vs_gpl-2.0-plus WITH autoconf-simple-exception-2.0': 10,\n",
       " 'bsd-simplified_vs_lgpl-2.0-plus': 10,\n",
       " 'mit_vs_gpl-1.0-plus AND lgpl-2.0-plus': 10,\n",
       " 'gpl-2.0 WITH linux-syscall-exception-gpl_vs_free-unknown': 10,\n",
       " 'motorola_vs_gpl-2.0-plus': 10,\n",
       " 'bzip2-libbzip-2010_vs_unicode': 10,\n",
       " 'lgpl-2.1-plus_vs_mit AND unknown-license-reference': 10,\n",
       " 'apache-2.0 AND gpl-2.0_vs_gpl-2.0': 10,\n",
       " 'gfdl-1.1-plus_vs_free-unknown': 10,\n",
       " 'gpl-2.0-plus WITH mif-exception_vs_free-unknown': 10,\n",
       " 'gpl-2.0 AND bsd-new_vs_free-unknown': 10,\n",
       " 'gpl-2.0_vs_lgpl-2.0-plus AND lgpl-2.1-plus': 10,\n",
       " 'bzip2-libbzip-2010_vs_bsd-new AND unknown-license-reference': 10,\n",
       " 'gpl-2.0_vs_bzip2-libbzip-2010': 10,\n",
       " 'mit AND unknown-license-reference_vs_dco-1.1': 9,\n",
       " 'mit AND unknown-license-reference_vs_bzip2-libbzip-2010': 9,\n",
       " 'mit AND unknown-license-reference_vs_cc-by-sa-4.0': 9,\n",
       " 'mit AND unknown-license-reference_vs_bsd-2-clause-views': 9,\n",
       " 'cc-by-4.0_vs_bsd-2-clause-views': 9,\n",
       " 'free-unknown_vs_gpl-1.0-plus AND gpl-3.0': 9,\n",
       " 'isc_vs_khronos': 9,\n",
       " 'apache-2.0_vs_protobuf': 9,\n",
       " 'libpng_vs_boost-1.0': 9,\n",
       " 'lgpl-3.0_vs_proprietary-license': 9,\n",
       " 'agpl-3.0_vs_bsd-simplified': 9,\n",
       " 'lgpl-2.0-plus_vs_ofl-1.1': 9,\n",
       " 'lgpl-3.0_vs_ofl-1.1': 9,\n",
       " 'ijg_vs_ofl-1.1': 9,\n",
       " 'gpl-3.0_vs_x11-lucent': 9,\n",
       " 'bsd-3-clause_vs_apache-2.0 AND public-domain': 9,\n",
       " 'bsd-3-clause_vs_x11-keith-packard': 9,\n",
       " 'wtfpl-2.0_vs_unknown-license-reference': 9,\n",
       " 'bsd-new AND unknown-license-reference_vs_free-unknown': 9,\n",
       " 'lgpl-2.1_vs_mpl-2.0': 9,\n",
       " 'mit_vs_ms-pl': 9,\n",
       " 'cc0-1.0_vs_apache-2.0 AND unknown-license-reference': 9,\n",
       " 'mit_vs_mit AND public-domain': 9,\n",
       " 'fsf-ap_vs_warranty-disclaimer': 9,\n",
       " 'bsd-3-clause_vs_mit AND public-domain': 9,\n",
       " 'apache-2.0_vs_uoi-ncsa': 9,\n",
       " 'lgpl-2.1-plus_vs_gpl-3.0-plus WITH autoconf-exception-2.0': 9,\n",
       " 'gpl-3.0_vs_beerware': 9,\n",
       " 'gpl-3.0_vs_cc-by-3.0': 9,\n",
       " 'gpl-3.0_vs_x11-keith-packard': 9,\n",
       " 'gpl-3.0-plus_vs_public-domain-disclaimer': 9,\n",
       " 'gpl-2.0-plus_vs_unknown-spdx': 9,\n",
       " 'apache-2.0_vs_beerware': 9,\n",
       " 'apache-2.0_vs_gpl-2.0-plus AND gpl-2.0': 9,\n",
       " 'mit_vs_noweb': 9,\n",
       " 'proprietary-license_vs_x11-keith-packard': 9,\n",
       " 'gpl-2.0_vs_unknown-spdx': 9,\n",
       " 'isc_vs_x11-keith-packard': 9,\n",
       " 'gpl-1.0-plus_vs_cc-by-sa-4.0': 9,\n",
       " 'gpl-1.0-plus_vs_noweb': 9,\n",
       " 'x11-keith-packard_vs_public-domain': 9,\n",
       " 'x11-keith-packard_vs_unknown-license-reference': 9,\n",
       " 'gpl-1.0-plus AND gpl-2.0_vs_unknown-license-reference': 9,\n",
       " 'generic-cla_vs_bsd-simplified': 9,\n",
       " 'warranty-disclaimer_vs_unknown': 9,\n",
       " 'zlib_vs_x11-xconsortium AND public-domain': 9,\n",
       " 'public-domain_vs_x11-xconsortium AND public-domain': 9,\n",
       " 'other-permissive_vs_fsf-free': 9,\n",
       " 'gpl-1.0-plus_vs_x11-xconsortium AND public-domain': 9,\n",
       " 'proprietary-license_vs_generic-exception': 9,\n",
       " 'zlib_vs_fsf-unlimited': 9,\n",
       " 'bsd-3-clause_vs_info-zip-2009-01': 9,\n",
       " 'gpl-1.0-plus_vs_fsf-unlimited-no-warranty': 9,\n",
       " 'mit-old-style-no-advert_vs_fsf-free': 9,\n",
       " 'dco-1.1_vs_proprietary-license': 9,\n",
       " 'cc-by-4.0_vs_fsf-free': 9,\n",
       " 'cc-by-4.0_vs_other-permissive': 9,\n",
       " 'cc0-1.0_vs_fsf-unlimited': 9,\n",
       " 'cc0-1.0_vs_bsd-new AND google-patent-license-webm': 9,\n",
       " 'fsf-unlimited_vs_x11-xconsortium AND public-domain': 9,\n",
       " 'bsd-new AND unknown-license-reference_vs_gpl-3.0-plus': 9,\n",
       " 'bsd-3-clause_vs_khronos': 9,\n",
       " 'bsd-3-clause_vs_bsd-new AND gpl-1.0-plus': 9,\n",
       " 'ijg_vs_lgpl-2.1-plus': 9,\n",
       " 'ijg_vs_gpl-1.0-plus': 9,\n",
       " 'khronos_vs_boost-1.0': 9,\n",
       " 'public-domain_vs_bsla': 9,\n",
       " 'mit AND unknown-license-reference_vs_public-domain': 9,\n",
       " 'gpl-1.0-plus_vs_gpl-2.0-plus WITH gcc-linking-exception-2.0': 9,\n",
       " 'gpl-1.0-plus_vs_gpl-2.0 AND isc': 9,\n",
       " 'gpl-1.0-plus_vs_xfree86-1.0': 9,\n",
       " 'gpl-1.0-plus_vs_gfdl-1.2': 9,\n",
       " 'gpl-1.0-plus_vs_ms-developer-services-agreement': 9,\n",
       " 'isc_vs_gpl-2.0 AND unknown-license-reference': 9,\n",
       " 'gpl-2.0_vs_gfdl-1.2': 9,\n",
       " 'gpl-2.0_vs_ms-developer-services-agreement': 9,\n",
       " 'gpl-2.0-plus_vs_gfdl-1.1-plus': 9,\n",
       " 'gpl-2.0-plus_vs_gpl-2.0-plus WITH mif-exception': 9,\n",
       " 'gpl-2.0-plus_vs_mit-old-style-no-advert': 9,\n",
       " 'mit_vs_gpl-1.0': 9,\n",
       " 'bsd-3-clause_vs_gpl-2.0 AND unknown-license-reference': 9,\n",
       " 'bsd-3-clause_vs_gpl-1.0': 9,\n",
       " 'gpl-2.0 WITH linux-syscall-exception-gpl_vs_public-domain': 9,\n",
       " 'lgpl-2.1_vs_gpl-1.0': 9,\n",
       " 'zlib_vs_generic-exception': 9,\n",
       " 'lgpl-2.0-plus_vs_gpl-1.0-plus AND gpl-2.0-plus': 9,\n",
       " 'gpl-1.0-plus AND gpl-2.0-plus_vs_fsf-free': 9,\n",
       " 'gpl-3.0_vs_cc-by-4.0': 9,\n",
       " 'free-unknown_vs_gpl-2.0 AND isc': 9,\n",
       " 'free-unknown_vs_ms-developer-services-agreement': 9,\n",
       " 'public-domain_vs_generic-exception': 9,\n",
       " 'ofl-1.1_vs_unknown': 9,\n",
       " 'bsd-3-clause_vs_gpl-3.0-plus WITH bison-exception-2.2': 9,\n",
       " 'gpl-2.0-plus_vs_gpl-3.0-plus WITH bison-exception-2.2': 9,\n",
       " 'bsd-3-clause_vs_mit-old-style': 9,\n",
       " 'apache-2.0_vs_mit-old-style': 9,\n",
       " 'apache-2.0_vs_bsd-original': 9,\n",
       " 'mit_vs_bsd-original': 9,\n",
       " 'gpl-2.0-plus_vs_x11-lucent': 9,\n",
       " 'mit_vs_cc-by-nc-4.0': 9,\n",
       " 'mpl-2.0_vs_boost-1.0': 9,\n",
       " 'apache-2.0 WITH llvm-exception_vs_warranty-disclaimer': 9,\n",
       " 'lgpl-3.0_vs_agpl-3.0': 9,\n",
       " 'proprietary-license_vs_cc-by-3.0': 9,\n",
       " 'cc-by-sa-3.0_vs_public-domain': 9,\n",
       " 'fsf-ap_vs_gpl-3.0-plus': 9,\n",
       " 'bsd-new_vs_public-domain-disclaimer': 9,\n",
       " 'warranty-disclaimer_vs_gpl-1.0-plus AND gpl-2.0': 9,\n",
       " 'warranty-disclaimer_vs_unlicense': 9,\n",
       " 'lgpl-2.1-plus_vs_unicode': 9,\n",
       " 'mit_vs_bsd-new AND gpl-1.0-plus': 9,\n",
       " 'gpl-2.0-plus_vs_cc-by-4.0': 9,\n",
       " 'gpl-1.0_vs_public-domain': 9,\n",
       " 'public-domain_vs_lgpl-2.0': 9,\n",
       " 'apache-2.0_vs_freetype': 9,\n",
       " 'apache-2.0 WITH llvm-exception_vs_zlib': 9,\n",
       " 'lgpl-2.1_vs_unlicense': 9,\n",
       " 'cc-by-sa-3.0_vs_gpl-1.0-plus': 9,\n",
       " 'cc-by-sa-3.0_vs_gpl-2.0': 9,\n",
       " 'proprietary-license_vs_apache-2.0 AND unknown-license-reference': 9,\n",
       " 'beerware_vs_gpl-1.0-plus': 9,\n",
       " 'beerware_vs_public-domain': 9,\n",
       " 'gpl-3.0-plus WITH autoconf-exception-2.0_vs_gpl-2.0-plus WITH autoconf-simple-exception-2.0': 9,\n",
       " 'dco-1.1_vs_cc0-1.0': 9,\n",
       " 'lgpl-2.1-plus_vs_lgpl-3.0': 9,\n",
       " 'apache-2.0 AND unknown-license-reference_vs_generic-cla': 9,\n",
       " 'bzip2-libbzip-2010_vs_bsd-simplified': 9,\n",
       " 'boost-1.0_vs_lgpl-2.0-plus': 9,\n",
       " 'artistic-2.0_vs_mit AND unknown-license-reference': 9,\n",
       " 'artistic-2.0_vs_gpl-2.0-plus WITH autoconf-simple-exception-2.0': 9,\n",
       " 'gpl-2.0-plus WITH autoconf-simple-exception-2.0_vs_bsd-2-clause-views': 9,\n",
       " 'lgpl-2.1-plus_vs_cc-by-sa-4.0': 9,\n",
       " 'boost-1.0_vs_generic-cla': 9,\n",
       " 'agpl-3.0-plus_vs_mit': 9,\n",
       " 'lgpl-2.1-plus_vs_bsd-source-code': 9,\n",
       " 'gpl-1.0-plus_vs_artistic-2.0': 9,\n",
       " 'free-unknown_vs_bsd-2-clause-views': 9,\n",
       " 'gpl-2.0-plus_vs_dco-1.1': 9,\n",
       " 'apache-2.0 AND gpl-2.0_vs_gpl-1.0-plus': 9,\n",
       " 'gpl-2.0 AND gpl-1.0-plus_vs_free-unknown': 9,\n",
       " 'public-domain_vs_openssl-ssleay': 9,\n",
       " 'bsd-new AND unknown-license-reference_vs_gpl-3.0': 9,\n",
       " 'fsf-unlimited_vs_gpl-3.0': 9,\n",
       " 'bsd-original-uc_vs_mit': 9,\n",
       " 'apache-2.0 AND unknown-license-reference_vs_unknown-license-reference': 9,\n",
       " 'odbl-1.0_vs_mit': 9,\n",
       " 'bzip2-libbzip-2010_vs_lgpl-2.1': 9,\n",
       " 'khronos_vs_bsd-new': 9,\n",
       " 'gpl-1.0-plus AND unknown-license-reference_vs_gpl-2.0': 9,\n",
       " 'cc-by-2.0_vs_apache-2.0': 9,\n",
       " 'unknown-license-reference_vs_bsd-new AND mit': 9,\n",
       " 'agpl-3.0-plus_vs_agpl-3.0': 9,\n",
       " 'lgpl-2.1-plus_vs_bzip2-libbzip-2010': 9,\n",
       " 'bsd-new AND unknown-license-reference_vs_cc-by-4.0': 9,\n",
       " 'gpl-1.0-plus_vs_bzip2-libbzip-2010': 9,\n",
       " 'mpl-2.0_vs_generic-cla': 9,\n",
       " 'gpl-2.0 AND free-unknown_vs_free-unknown': 9,\n",
       " 'gpl-3.0-plus WITH bison-exception-2.2_vs_gpl-2.0': 9,\n",
       " 'gpl-2.0-plus WITH libtool-exception-2.0_vs_mit': 9,\n",
       " 'gpl-3.0-plus_vs_lgpl-3.0': 9,\n",
       " 'zlib_vs_agpl-3.0': 9,\n",
       " 'mit-0_vs_isc': 8,\n",
       " 'mit AND unknown-license-reference_vs_mit AND cc0-1.0': 8,\n",
       " 'cc0-1.0_vs_mit AND cc0-1.0': 8,\n",
       " 'generic-cla_vs_gpl-2.0-plus WITH autoconf-simple-exception-2.0': 8,\n",
       " 'generic-cla_vs_cc-by-sa-4.0': 8,\n",
       " 'cc-by-4.0_vs_mit AND cc0-1.0': 8,\n",
       " 'mit AND cc0-1.0_vs_bsd-new': 8,\n",
       " 'lgpl-2.1_vs_bsd-2-clause-views': 8,\n",
       " 'python_vs_zlib': 8,\n",
       " 'jasper-2.0_vs_khronos': 8,\n",
       " 'motorola_vs_gpl-2.0-plus AND softfloat': 8,\n",
       " 'gpl-2.0_vs_gpl-2.0-plus AND softfloat': 8,\n",
       " 'gpl-3.0_vs_cc-by-sa-4.0': 8,\n",
       " 'public-domain_vs_mit AND bsd-new': 8,\n",
       " 'gpl-3.0_vs_lgpl-2.0': 8,\n",
       " 'isc_vs_x11-lucent': 8,\n",
       " 'bsd-new AND unknown-license-reference_vs_x11-lucent': 8,\n",
       " 'apache-2.0_vs_google-patent-license-golang': 8,\n",
       " 'mit_vs_apache-2.0 AND generic-cla': 8,\n",
       " 'dco-1.1_vs_lgpl-2.0-plus': 8,\n",
       " 'bsd-3-clause_vs_lgpl-3.0-plus': 8,\n",
       " 'gpl-3.0-plus_vs_lgpl-3.0-plus': 8,\n",
       " 'mit_vs_apache-2.0 AND mpl-2.0': 8,\n",
       " 'json_vs_bsd-new': 8,\n",
       " 'gpl-3.0_vs_wtfpl-2.0': 8,\n",
       " 'cc0-1.0_vs_bsd-new AND unknown-license-reference': 8,\n",
       " 'lgpl-3.0_vs_free-unknown': 8,\n",
       " 'lgpl-3.0_vs_bsd-simplified': 8,\n",
       " 'gpl-1.0-plus_vs_gpl-1.0-plus AND unknown-license-reference': 8,\n",
       " 'mit_vs_wtfpl-2.0 AND unknown-license-reference': 8,\n",
       " 'cc-by-sa-3.0_vs_cc-by-3.0': 8,\n",
       " 'isc_vs_apache-2.0 WITH llvm-exception': 8,\n",
       " 'fsf-ap_vs_bsd-new': 8,\n",
       " 'apache-2.0_vs_mit AND public-domain': 8,\n",
       " 'cc0-1.0_vs_apache-2.0 WITH llvm-exception': 8,\n",
       " 'gpl-3.0-plus_vs_gpl-3.0-plus WITH autoconf-exception-2.0': 8,\n",
       " 'free-unknown_vs_gpl-3.0-plus WITH autoconf-exception-2.0': 8,\n",
       " ...}"
      ]
     },
     "execution_count": 132,
     "metadata": {},
     "output_type": "execute_result"
    }
   ],
   "source": [
    "#sort the dictionary\n",
    "all_conflicts_merged = {k: v for k, v in sorted(all_conflicts_merged.items(), key=lambda item: item[1], reverse=True)}\n",
    "all_conflicts_merged"
   ]
  }
 ],
 "metadata": {
  "kernelspec": {
   "display_name": "env",
   "language": "python",
   "name": "python3"
  },
  "language_info": {
   "codemirror_mode": {
    "name": "ipython",
    "version": 3
   },
   "file_extension": ".py",
   "mimetype": "text/x-python",
   "name": "python",
   "nbconvert_exporter": "python",
   "pygments_lexer": "ipython3",
   "version": "3.11.4"
  }
 },
 "nbformat": 4,
 "nbformat_minor": 2
}
